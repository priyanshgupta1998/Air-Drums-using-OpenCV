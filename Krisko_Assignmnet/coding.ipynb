{
  "nbformat": 4,
  "nbformat_minor": 0,
  "metadata": {
    "colab": {
      "name": "TensorFlow with GPU",
      "provenance": [],
      "collapsed_sections": [],
      "include_colab_link": true
    },
    "kernelspec": {
      "name": "python3",
      "display_name": "Python 3"
    },
    "accelerator": "GPU"
  },
  "cells": [
    {
      "cell_type": "markdown",
      "metadata": {
        "id": "view-in-github",
        "colab_type": "text"
      },
      "source": [
        "<a href=\"https://colab.research.google.com/github/priyanshgupta1998/Air-Drums-using-OpenCV/blob/master/Krisko_Assignmnet/coding.ipynb\" target=\"_parent\"><img src=\"https://colab.research.google.com/assets/colab-badge.svg\" alt=\"Open In Colab\"/></a>"
      ]
    },
    {
      "cell_type": "code",
      "metadata": {
        "id": "Nr67jOoe2ipT",
        "colab_type": "code",
        "colab": {}
      },
      "source": [
        ""
      ],
      "execution_count": 0,
      "outputs": []
    },
    {
      "cell_type": "markdown",
      "metadata": {
        "id": "vf1rHLB1YTkT",
        "colab_type": "text"
      },
      "source": [
        "#Krisko Assignment "
      ]
    },
    {
      "cell_type": "code",
      "metadata": {
        "id": "cCCgNqji2ru4",
        "colab_type": "code",
        "colab": {}
      },
      "source": [
        "import pandas as pd\n",
        "data1 = pd.read_excel('Input-Rank-Cutoff-List.xlsx')\n",
        "data1.to_csv('Train.csv')"
      ],
      "execution_count": 0,
      "outputs": []
    },
    {
      "cell_type": "code",
      "metadata": {
        "id": "XMYyBO1RsXUE",
        "colab_type": "code",
        "colab": {
          "base_uri": "https://localhost:8080/",
          "height": 34
        },
        "outputId": "2999a9f9-9b1a-4fca-d611-c9d58fc4d7f7"
      },
      "source": [
        "print(data1.shape)"
      ],
      "execution_count": 3,
      "outputs": [
        {
          "output_type": "stream",
          "text": [
            "(295, 9)\n"
          ],
          "name": "stdout"
        }
      ]
    },
    {
      "cell_type": "code",
      "metadata": {
        "id": "re6JwK5r2rsC",
        "colab_type": "code",
        "colab": {
          "base_uri": "https://localhost:8080/",
          "height": 221
        },
        "outputId": "95d8e061-41bd-4b4a-db29-8710a710b4a2"
      },
      "source": [
        "column = []\n",
        "for i in range(data1.shape[1]):\n",
        "  column.append('col_'+ str(i))\n",
        "data = pd.read_csv('Train.csv' , names= column)\n",
        "print(data.shape)\n",
        "data.head(5)"
      ],
      "execution_count": 4,
      "outputs": [
        {
          "output_type": "stream",
          "text": [
            "(296, 9)\n"
          ],
          "name": "stdout"
        },
        {
          "output_type": "execute_result",
          "data": {
            "text/html": [
              "<div>\n",
              "<style scoped>\n",
              "    .dataframe tbody tr th:only-of-type {\n",
              "        vertical-align: middle;\n",
              "    }\n",
              "\n",
              "    .dataframe tbody tr th {\n",
              "        vertical-align: top;\n",
              "    }\n",
              "\n",
              "    .dataframe thead th {\n",
              "        text-align: right;\n",
              "    }\n",
              "</style>\n",
              "<table border=\"1\" class=\"dataframe\">\n",
              "  <thead>\n",
              "    <tr style=\"text-align: right;\">\n",
              "      <th></th>\n",
              "      <th>col_0</th>\n",
              "      <th>col_1</th>\n",
              "      <th>col_2</th>\n",
              "      <th>col_3</th>\n",
              "      <th>col_4</th>\n",
              "      <th>col_5</th>\n",
              "      <th>col_6</th>\n",
              "      <th>col_7</th>\n",
              "      <th>col_8</th>\n",
              "    </tr>\n",
              "  </thead>\n",
              "  <tbody>\n",
              "    <tr>\n",
              "      <th>NaN</th>\n",
              "      <td>IIT Bombay</td>\n",
              "      <td>Unnamed: 1</td>\n",
              "      <td>Unnamed: 2</td>\n",
              "      <td>Unnamed: 3</td>\n",
              "      <td>Unnamed: 4</td>\n",
              "      <td>Unnamed: 5</td>\n",
              "      <td>Unnamed: 6</td>\n",
              "      <td>Unnamed: 7</td>\n",
              "      <td>Unnamed: 8</td>\n",
              "    </tr>\n",
              "    <tr>\n",
              "      <th>0.0</th>\n",
              "      <td>Branch Name</td>\n",
              "      <td>General</td>\n",
              "      <td>NaN</td>\n",
              "      <td>OBC</td>\n",
              "      <td>NaN</td>\n",
              "      <td>SC</td>\n",
              "      <td>NaN</td>\n",
              "      <td>ST</td>\n",
              "      <td>NaN</td>\n",
              "    </tr>\n",
              "    <tr>\n",
              "      <th>1.0</th>\n",
              "      <td>NaN</td>\n",
              "      <td>Open</td>\n",
              "      <td>Close</td>\n",
              "      <td>Open</td>\n",
              "      <td>Close</td>\n",
              "      <td>Open</td>\n",
              "      <td>Close</td>\n",
              "      <td>Open</td>\n",
              "      <td>Close</td>\n",
              "    </tr>\n",
              "    <tr>\n",
              "      <th>2.0</th>\n",
              "      <td>Aerospace Engineering</td>\n",
              "      <td>405</td>\n",
              "      <td>1674</td>\n",
              "      <td>256</td>\n",
              "      <td>811</td>\n",
              "      <td>46</td>\n",
              "      <td>334</td>\n",
              "      <td>154</td>\n",
              "      <td>266</td>\n",
              "    </tr>\n",
              "    <tr>\n",
              "      <th>3.0</th>\n",
              "      <td>Chemical Engineering</td>\n",
              "      <td>727</td>\n",
              "      <td>1240</td>\n",
              "      <td>427</td>\n",
              "      <td>845</td>\n",
              "      <td>151</td>\n",
              "      <td>544</td>\n",
              "      <td>158</td>\n",
              "      <td>315</td>\n",
              "    </tr>\n",
              "  </tbody>\n",
              "</table>\n",
              "</div>"
            ],
            "text/plain": [
              "                     col_0       col_1  ...       col_7       col_8\n",
              "NaN             IIT Bombay  Unnamed: 1  ...  Unnamed: 7  Unnamed: 8\n",
              "0.0           Branch Name     General   ...          ST         NaN\n",
              "1.0                    NaN        Open  ...        Open       Close\n",
              "2.0  Aerospace Engineering         405  ...         154         266\n",
              "3.0   Chemical Engineering         727  ...         158         315\n",
              "\n",
              "[5 rows x 9 columns]"
            ]
          },
          "metadata": {
            "tags": []
          },
          "execution_count": 4
        }
      ]
    },
    {
      "cell_type": "code",
      "metadata": {
        "id": "UK0Ws_YCs3Mp",
        "colab_type": "code",
        "colab": {
          "base_uri": "https://localhost:8080/",
          "height": 204
        },
        "outputId": "8db1ca01-dce3-403c-f310-4ab117c03238"
      },
      "source": [
        "data.reset_index(inplace=True)\n",
        "data.head()"
      ],
      "execution_count": 5,
      "outputs": [
        {
          "output_type": "execute_result",
          "data": {
            "text/html": [
              "<div>\n",
              "<style scoped>\n",
              "    .dataframe tbody tr th:only-of-type {\n",
              "        vertical-align: middle;\n",
              "    }\n",
              "\n",
              "    .dataframe tbody tr th {\n",
              "        vertical-align: top;\n",
              "    }\n",
              "\n",
              "    .dataframe thead th {\n",
              "        text-align: right;\n",
              "    }\n",
              "</style>\n",
              "<table border=\"1\" class=\"dataframe\">\n",
              "  <thead>\n",
              "    <tr style=\"text-align: right;\">\n",
              "      <th></th>\n",
              "      <th>index</th>\n",
              "      <th>col_0</th>\n",
              "      <th>col_1</th>\n",
              "      <th>col_2</th>\n",
              "      <th>col_3</th>\n",
              "      <th>col_4</th>\n",
              "      <th>col_5</th>\n",
              "      <th>col_6</th>\n",
              "      <th>col_7</th>\n",
              "      <th>col_8</th>\n",
              "    </tr>\n",
              "  </thead>\n",
              "  <tbody>\n",
              "    <tr>\n",
              "      <th>0</th>\n",
              "      <td>NaN</td>\n",
              "      <td>IIT Bombay</td>\n",
              "      <td>Unnamed: 1</td>\n",
              "      <td>Unnamed: 2</td>\n",
              "      <td>Unnamed: 3</td>\n",
              "      <td>Unnamed: 4</td>\n",
              "      <td>Unnamed: 5</td>\n",
              "      <td>Unnamed: 6</td>\n",
              "      <td>Unnamed: 7</td>\n",
              "      <td>Unnamed: 8</td>\n",
              "    </tr>\n",
              "    <tr>\n",
              "      <th>1</th>\n",
              "      <td>0.0</td>\n",
              "      <td>Branch Name</td>\n",
              "      <td>General</td>\n",
              "      <td>NaN</td>\n",
              "      <td>OBC</td>\n",
              "      <td>NaN</td>\n",
              "      <td>SC</td>\n",
              "      <td>NaN</td>\n",
              "      <td>ST</td>\n",
              "      <td>NaN</td>\n",
              "    </tr>\n",
              "    <tr>\n",
              "      <th>2</th>\n",
              "      <td>1.0</td>\n",
              "      <td>NaN</td>\n",
              "      <td>Open</td>\n",
              "      <td>Close</td>\n",
              "      <td>Open</td>\n",
              "      <td>Close</td>\n",
              "      <td>Open</td>\n",
              "      <td>Close</td>\n",
              "      <td>Open</td>\n",
              "      <td>Close</td>\n",
              "    </tr>\n",
              "    <tr>\n",
              "      <th>3</th>\n",
              "      <td>2.0</td>\n",
              "      <td>Aerospace Engineering</td>\n",
              "      <td>405</td>\n",
              "      <td>1674</td>\n",
              "      <td>256</td>\n",
              "      <td>811</td>\n",
              "      <td>46</td>\n",
              "      <td>334</td>\n",
              "      <td>154</td>\n",
              "      <td>266</td>\n",
              "    </tr>\n",
              "    <tr>\n",
              "      <th>4</th>\n",
              "      <td>3.0</td>\n",
              "      <td>Chemical Engineering</td>\n",
              "      <td>727</td>\n",
              "      <td>1240</td>\n",
              "      <td>427</td>\n",
              "      <td>845</td>\n",
              "      <td>151</td>\n",
              "      <td>544</td>\n",
              "      <td>158</td>\n",
              "      <td>315</td>\n",
              "    </tr>\n",
              "  </tbody>\n",
              "</table>\n",
              "</div>"
            ],
            "text/plain": [
              "   index                  col_0       col_1  ...       col_6       col_7       col_8\n",
              "0    NaN             IIT Bombay  Unnamed: 1  ...  Unnamed: 6  Unnamed: 7  Unnamed: 8\n",
              "1    0.0           Branch Name     General   ...         NaN          ST         NaN\n",
              "2    1.0                    NaN        Open  ...       Close        Open       Close\n",
              "3    2.0  Aerospace Engineering         405  ...         334         154         266\n",
              "4    3.0   Chemical Engineering         727  ...         544         158         315\n",
              "\n",
              "[5 rows x 10 columns]"
            ]
          },
          "metadata": {
            "tags": []
          },
          "execution_count": 5
        }
      ]
    },
    {
      "cell_type": "code",
      "metadata": {
        "id": "op_hY6QYtq3-",
        "colab_type": "code",
        "colab": {}
      },
      "source": [
        "data.drop('index' , axis =1 , inplace =True)"
      ],
      "execution_count": 0,
      "outputs": []
    },
    {
      "cell_type": "markdown",
      "metadata": {
        "id": "DOYYZ6NstaVK",
        "colab_type": "text"
      },
      "source": [
        "#Get the Branch Name"
      ]
    },
    {
      "cell_type": "code",
      "metadata": {
        "id": "0Ea9uqEwphrX",
        "colab_type": "code",
        "colab": {
          "base_uri": "https://localhost:8080/",
          "height": 34
        },
        "outputId": "26c5df5a-bcc6-42af-e4f8-4ed25f3f2a33"
      },
      "source": [
        "app =[]\n",
        "for i in list(data[data['col_0']=='Branch Name '].index):\n",
        "  app.append(i-1)\n",
        "print(len(app) , app)"
      ],
      "execution_count": 7,
      "outputs": [
        {
          "output_type": "stream",
          "text": [
            "17 [0, 21, 39, 82, 99, 133, 155, 171, 180, 188, 196, 208, 218, 227, 236, 244, 273]\n"
          ],
          "name": "stdout"
        }
      ]
    },
    {
      "cell_type": "code",
      "metadata": {
        "id": "ex-oWBe0pho0",
        "colab_type": "code",
        "colab": {
          "base_uri": "https://localhost:8080/",
          "height": 54
        },
        "outputId": "a67cb41a-6b49-4377-8ad5-ee9369e4d005"
      },
      "source": [
        "collg = []\n",
        "for i in app:\n",
        "  collg.append(data['col_0'][i])\n",
        "  \n",
        "print(len(collg) , collg)"
      ],
      "execution_count": 8,
      "outputs": [
        {
          "output_type": "stream",
          "text": [
            "17 ['IIT Bombay', 'IIT Delhi', 'IIT Kharagpur', 'IIT Kanpur', 'IIT Madras', 'IIT Roorkee', 'IIT Guwahati', 'IIT Bhubaneshwar', 'IIT Mandi', 'IIT indore', 'IIT Hydrabad', 'IIT Jodhpur', 'IIT Gandhinagar', 'IIT Patna', 'IIT Ropar', 'IIT (BHU) Varanasi', 'ISM Dhanbad']\n"
          ],
          "name": "stdout"
        }
      ]
    },
    {
      "cell_type": "code",
      "metadata": {
        "id": "hMQthAaxvX3Y",
        "colab_type": "code",
        "colab": {
          "base_uri": "https://localhost:8080/",
          "height": 34
        },
        "outputId": "0c005a0f-a43b-437e-f08a-e1ba8417a3ed"
      },
      "source": [
        "virus = app.copy()\n",
        "virus += [296]\n",
        "for i in range(len(virus)-1):\n",
        "  virus[i] = virus[i+1] - virus[i]\n",
        "  \n",
        "del virus[-1]\n",
        "print(len(virus) , virus)\n"
      ],
      "execution_count": 9,
      "outputs": [
        {
          "output_type": "stream",
          "text": [
            "17 [21, 18, 43, 17, 34, 22, 16, 9, 8, 8, 12, 10, 9, 9, 8, 29, 23]\n"
          ],
          "name": "stdout"
        }
      ]
    },
    {
      "cell_type": "code",
      "metadata": {
        "id": "Gzty243KphmM",
        "colab_type": "code",
        "colab": {
          "base_uri": "https://localhost:8080/",
          "height": 34
        },
        "outputId": "635d8706-11ab-4fb6-cbf9-32e128c0b81f"
      },
      "source": [
        "col_name = []\n",
        "for i in range(len(collg)):\n",
        "  col_name+=[collg[i]]*virus[i]\n",
        "print(len(col_name))"
      ],
      "execution_count": 10,
      "outputs": [
        {
          "output_type": "stream",
          "text": [
            "296\n"
          ],
          "name": "stdout"
        }
      ]
    },
    {
      "cell_type": "code",
      "metadata": {
        "id": "g6xznbLcphjW",
        "colab_type": "code",
        "colab": {}
      },
      "source": [
        "data.insert(0,'College_Name',col_name)"
      ],
      "execution_count": 0,
      "outputs": []
    },
    {
      "cell_type": "code",
      "metadata": {
        "id": "uuv23KA92rps",
        "colab_type": "code",
        "colab": {
          "base_uri": "https://localhost:8080/",
          "height": 221
        },
        "outputId": "9fa1d0cd-ce01-454f-c84f-086927ba6b98"
      },
      "source": [
        "print(data.shape)\n",
        "data.head()"
      ],
      "execution_count": 12,
      "outputs": [
        {
          "output_type": "stream",
          "text": [
            "(296, 10)\n"
          ],
          "name": "stdout"
        },
        {
          "output_type": "execute_result",
          "data": {
            "text/html": [
              "<div>\n",
              "<style scoped>\n",
              "    .dataframe tbody tr th:only-of-type {\n",
              "        vertical-align: middle;\n",
              "    }\n",
              "\n",
              "    .dataframe tbody tr th {\n",
              "        vertical-align: top;\n",
              "    }\n",
              "\n",
              "    .dataframe thead th {\n",
              "        text-align: right;\n",
              "    }\n",
              "</style>\n",
              "<table border=\"1\" class=\"dataframe\">\n",
              "  <thead>\n",
              "    <tr style=\"text-align: right;\">\n",
              "      <th></th>\n",
              "      <th>College_Name</th>\n",
              "      <th>col_0</th>\n",
              "      <th>col_1</th>\n",
              "      <th>col_2</th>\n",
              "      <th>col_3</th>\n",
              "      <th>col_4</th>\n",
              "      <th>col_5</th>\n",
              "      <th>col_6</th>\n",
              "      <th>col_7</th>\n",
              "      <th>col_8</th>\n",
              "    </tr>\n",
              "  </thead>\n",
              "  <tbody>\n",
              "    <tr>\n",
              "      <th>0</th>\n",
              "      <td>IIT Bombay</td>\n",
              "      <td>IIT Bombay</td>\n",
              "      <td>Unnamed: 1</td>\n",
              "      <td>Unnamed: 2</td>\n",
              "      <td>Unnamed: 3</td>\n",
              "      <td>Unnamed: 4</td>\n",
              "      <td>Unnamed: 5</td>\n",
              "      <td>Unnamed: 6</td>\n",
              "      <td>Unnamed: 7</td>\n",
              "      <td>Unnamed: 8</td>\n",
              "    </tr>\n",
              "    <tr>\n",
              "      <th>1</th>\n",
              "      <td>IIT Bombay</td>\n",
              "      <td>Branch Name</td>\n",
              "      <td>General</td>\n",
              "      <td>NaN</td>\n",
              "      <td>OBC</td>\n",
              "      <td>NaN</td>\n",
              "      <td>SC</td>\n",
              "      <td>NaN</td>\n",
              "      <td>ST</td>\n",
              "      <td>NaN</td>\n",
              "    </tr>\n",
              "    <tr>\n",
              "      <th>2</th>\n",
              "      <td>IIT Bombay</td>\n",
              "      <td>NaN</td>\n",
              "      <td>Open</td>\n",
              "      <td>Close</td>\n",
              "      <td>Open</td>\n",
              "      <td>Close</td>\n",
              "      <td>Open</td>\n",
              "      <td>Close</td>\n",
              "      <td>Open</td>\n",
              "      <td>Close</td>\n",
              "    </tr>\n",
              "    <tr>\n",
              "      <th>3</th>\n",
              "      <td>IIT Bombay</td>\n",
              "      <td>Aerospace Engineering</td>\n",
              "      <td>405</td>\n",
              "      <td>1674</td>\n",
              "      <td>256</td>\n",
              "      <td>811</td>\n",
              "      <td>46</td>\n",
              "      <td>334</td>\n",
              "      <td>154</td>\n",
              "      <td>266</td>\n",
              "    </tr>\n",
              "    <tr>\n",
              "      <th>4</th>\n",
              "      <td>IIT Bombay</td>\n",
              "      <td>Chemical Engineering</td>\n",
              "      <td>727</td>\n",
              "      <td>1240</td>\n",
              "      <td>427</td>\n",
              "      <td>845</td>\n",
              "      <td>151</td>\n",
              "      <td>544</td>\n",
              "      <td>158</td>\n",
              "      <td>315</td>\n",
              "    </tr>\n",
              "  </tbody>\n",
              "</table>\n",
              "</div>"
            ],
            "text/plain": [
              "  College_Name                  col_0  ...       col_7       col_8\n",
              "0   IIT Bombay             IIT Bombay  ...  Unnamed: 7  Unnamed: 8\n",
              "1   IIT Bombay           Branch Name   ...          ST         NaN\n",
              "2   IIT Bombay                    NaN  ...        Open       Close\n",
              "3   IIT Bombay  Aerospace Engineering  ...         154         266\n",
              "4   IIT Bombay   Chemical Engineering  ...         158         315\n",
              "\n",
              "[5 rows x 10 columns]"
            ]
          },
          "metadata": {
            "tags": []
          },
          "execution_count": 12
        }
      ]
    },
    {
      "cell_type": "code",
      "metadata": {
        "id": "hW8XLuIopiLS",
        "colab_type": "code",
        "colab": {}
      },
      "source": [
        "data.rename(columns = {\"col_0\": \"BRANCH_NAME\" , \"col_1\":\"GENERAL_OPEN\" , \"col_2\":\"GENERAL_CLOSE\" , \"col_3\":\"OBC_OPEN\" ,\"col_4\":\"OBC_CLOSE\" , \"col_5\":\"SC_OPEN\"\n",
        "                      ,\"col_6\":\"SC_CLOSE\", \"col_7\": \"ST_OPEN\" , \"col_8\":\"ST_CLOSE\"}  , inplace=True)"
      ],
      "execution_count": 0,
      "outputs": []
    },
    {
      "cell_type": "code",
      "metadata": {
        "id": "KyLSIy_C2rj0",
        "colab_type": "code",
        "colab": {}
      },
      "source": [
        "data = data.dropna(how='any',axis=0)"
      ],
      "execution_count": 0,
      "outputs": []
    },
    {
      "cell_type": "code",
      "metadata": {
        "id": "sTwoRAuP0WP4",
        "colab_type": "code",
        "colab": {}
      },
      "source": [
        "data.drop(0 , axis =0 , inplace =True)"
      ],
      "execution_count": 0,
      "outputs": []
    },
    {
      "cell_type": "code",
      "metadata": {
        "id": "jNh1kY2U2rhX",
        "colab_type": "code",
        "colab": {}
      },
      "source": [
        "data.reset_index(inplace=True)\n",
        "data.drop('index' , axis =1 , inplace =True)"
      ],
      "execution_count": 0,
      "outputs": []
    },
    {
      "cell_type": "code",
      "metadata": {
        "id": "Ll2BA-Dz2rcr",
        "colab_type": "code",
        "colab": {
          "base_uri": "https://localhost:8080/",
          "height": 314
        },
        "outputId": "094bf1f4-91bf-44f6-dad8-7c3d49c73fc6"
      },
      "source": [
        "print(data.shape)\n",
        "data.head(8)"
      ],
      "execution_count": 17,
      "outputs": [
        {
          "output_type": "stream",
          "text": [
            "(212, 10)\n"
          ],
          "name": "stdout"
        },
        {
          "output_type": "execute_result",
          "data": {
            "text/html": [
              "<div>\n",
              "<style scoped>\n",
              "    .dataframe tbody tr th:only-of-type {\n",
              "        vertical-align: middle;\n",
              "    }\n",
              "\n",
              "    .dataframe tbody tr th {\n",
              "        vertical-align: top;\n",
              "    }\n",
              "\n",
              "    .dataframe thead th {\n",
              "        text-align: right;\n",
              "    }\n",
              "</style>\n",
              "<table border=\"1\" class=\"dataframe\">\n",
              "  <thead>\n",
              "    <tr style=\"text-align: right;\">\n",
              "      <th></th>\n",
              "      <th>College_Name</th>\n",
              "      <th>BRANCH_NAME</th>\n",
              "      <th>GENERAL_OPEN</th>\n",
              "      <th>GENERAL_CLOSE</th>\n",
              "      <th>OBC_OPEN</th>\n",
              "      <th>OBC_CLOSE</th>\n",
              "      <th>SC_OPEN</th>\n",
              "      <th>SC_CLOSE</th>\n",
              "      <th>ST_OPEN</th>\n",
              "      <th>ST_CLOSE</th>\n",
              "    </tr>\n",
              "  </thead>\n",
              "  <tbody>\n",
              "    <tr>\n",
              "      <th>0</th>\n",
              "      <td>IIT Bombay</td>\n",
              "      <td>Aerospace Engineering</td>\n",
              "      <td>405</td>\n",
              "      <td>1674</td>\n",
              "      <td>256</td>\n",
              "      <td>811</td>\n",
              "      <td>46</td>\n",
              "      <td>334</td>\n",
              "      <td>154</td>\n",
              "      <td>266</td>\n",
              "    </tr>\n",
              "    <tr>\n",
              "      <th>1</th>\n",
              "      <td>IIT Bombay</td>\n",
              "      <td>Chemical Engineering</td>\n",
              "      <td>727</td>\n",
              "      <td>1240</td>\n",
              "      <td>427</td>\n",
              "      <td>845</td>\n",
              "      <td>151</td>\n",
              "      <td>544</td>\n",
              "      <td>158</td>\n",
              "      <td>315</td>\n",
              "    </tr>\n",
              "    <tr>\n",
              "      <th>2</th>\n",
              "      <td>IIT Bombay</td>\n",
              "      <td>Civil Engineering</td>\n",
              "      <td>400</td>\n",
              "      <td>1688</td>\n",
              "      <td>379</td>\n",
              "      <td>873</td>\n",
              "      <td>107</td>\n",
              "      <td>372</td>\n",
              "      <td>69</td>\n",
              "      <td>96</td>\n",
              "    </tr>\n",
              "    <tr>\n",
              "      <th>3</th>\n",
              "      <td>IIT Bombay</td>\n",
              "      <td>Computer Engineering</td>\n",
              "      <td>1</td>\n",
              "      <td>59</td>\n",
              "      <td>8</td>\n",
              "      <td>38</td>\n",
              "      <td>2</td>\n",
              "      <td>19</td>\n",
              "      <td>3</td>\n",
              "      <td>21</td>\n",
              "    </tr>\n",
              "    <tr>\n",
              "      <th>4</th>\n",
              "      <td>IIT Bombay</td>\n",
              "      <td>Electrical Engineering</td>\n",
              "      <td>7</td>\n",
              "      <td>135</td>\n",
              "      <td>34</td>\n",
              "      <td>80</td>\n",
              "      <td>12</td>\n",
              "      <td>64</td>\n",
              "      <td>2</td>\n",
              "      <td>18</td>\n",
              "    </tr>\n",
              "    <tr>\n",
              "      <th>5</th>\n",
              "      <td>IIT Bombay</td>\n",
              "      <td>Engineering Physics</td>\n",
              "      <td>206</td>\n",
              "      <td>1090</td>\n",
              "      <td>455</td>\n",
              "      <td>815</td>\n",
              "      <td>15</td>\n",
              "      <td>490</td>\n",
              "      <td>151</td>\n",
              "      <td>426</td>\n",
              "    </tr>\n",
              "    <tr>\n",
              "      <th>6</th>\n",
              "      <td>IIT Bombay</td>\n",
              "      <td>Mechanical Engineering</td>\n",
              "      <td>24</td>\n",
              "      <td>488</td>\n",
              "      <td>88</td>\n",
              "      <td>231</td>\n",
              "      <td>29</td>\n",
              "      <td>105</td>\n",
              "      <td>22</td>\n",
              "      <td>52</td>\n",
              "    </tr>\n",
              "    <tr>\n",
              "      <th>7</th>\n",
              "      <td>IIT Bombay</td>\n",
              "      <td>Metallurgical Science</td>\n",
              "      <td>1243</td>\n",
              "      <td>2790</td>\n",
              "      <td>996</td>\n",
              "      <td>1716</td>\n",
              "      <td>526</td>\n",
              "      <td>982</td>\n",
              "      <td>239</td>\n",
              "      <td>522</td>\n",
              "    </tr>\n",
              "  </tbody>\n",
              "</table>\n",
              "</div>"
            ],
            "text/plain": [
              "  College_Name             BRANCH_NAME GENERAL_OPEN  ... SC_CLOSE ST_OPEN ST_CLOSE\n",
              "0   IIT Bombay   Aerospace Engineering          405  ...      334     154      266\n",
              "1   IIT Bombay    Chemical Engineering          727  ...      544     158      315\n",
              "2   IIT Bombay       Civil Engineering          400  ...      372      69       96\n",
              "3   IIT Bombay    Computer Engineering            1  ...       19       3       21\n",
              "4   IIT Bombay  Electrical Engineering            7  ...       64       2       18\n",
              "5   IIT Bombay     Engineering Physics          206  ...      490     151      426\n",
              "6   IIT Bombay  Mechanical Engineering           24  ...      105      22       52\n",
              "7   IIT Bombay   Metallurgical Science         1243  ...      982     239      522\n",
              "\n",
              "[8 rows x 10 columns]"
            ]
          },
          "metadata": {
            "tags": []
          },
          "execution_count": 17
        }
      ]
    },
    {
      "cell_type": "code",
      "metadata": {
        "id": "XDebikoY2jLI",
        "colab_type": "code",
        "colab": {}
      },
      "source": [
        "df = data.copy()"
      ],
      "execution_count": 0,
      "outputs": []
    },
    {
      "cell_type": "code",
      "metadata": {
        "id": "zFolpsWQ2jJb",
        "colab_type": "code",
        "colab": {
          "base_uri": "https://localhost:8080/",
          "height": 34
        },
        "outputId": "7d503ba4-f37a-40ec-999c-0fe65d59597a"
      },
      "source": [
        "#here we have 103 unique Branches \n",
        "df['BRANCH_NAME'].nunique()"
      ],
      "execution_count": 19,
      "outputs": [
        {
          "output_type": "execute_result",
          "data": {
            "text/plain": [
              "103"
            ]
          },
          "metadata": {
            "tags": []
          },
          "execution_count": 19
        }
      ]
    },
    {
      "cell_type": "code",
      "metadata": {
        "id": "x530JO9IOz_2",
        "colab_type": "code",
        "colab": {
          "base_uri": "https://localhost:8080/",
          "height": 272
        },
        "outputId": "019ea7e1-1e80-4f23-a00f-78934533b2c9"
      },
      "source": [
        "df.info()"
      ],
      "execution_count": 20,
      "outputs": [
        {
          "output_type": "stream",
          "text": [
            "<class 'pandas.core.frame.DataFrame'>\n",
            "RangeIndex: 212 entries, 0 to 211\n",
            "Data columns (total 10 columns):\n",
            "College_Name     212 non-null object\n",
            "BRANCH_NAME      212 non-null object\n",
            "GENERAL_OPEN     212 non-null object\n",
            "GENERAL_CLOSE    212 non-null object\n",
            "OBC_OPEN         212 non-null object\n",
            "OBC_CLOSE        212 non-null object\n",
            "SC_OPEN          212 non-null object\n",
            "SC_CLOSE         212 non-null object\n",
            "ST_OPEN          212 non-null object\n",
            "ST_CLOSE         212 non-null object\n",
            "dtypes: object(10)\n",
            "memory usage: 16.6+ KB\n"
          ],
          "name": "stdout"
        }
      ]
    },
    {
      "cell_type": "code",
      "metadata": {
        "id": "vAb0tRANO5FF",
        "colab_type": "code",
        "colab": {
          "base_uri": "https://localhost:8080/",
          "height": 289
        },
        "outputId": "dd4e2db8-2a6d-4629-c93a-4dc08bd89e9e"
      },
      "source": [
        "df['GENERAL_OPEN'] = df['GENERAL_OPEN'].astype(int) \n",
        "df['GENERAL_CLOSE'] = df['GENERAL_CLOSE'].astype(int) \n",
        "df['OBC_OPEN'] = df['OBC_OPEN'].astype(int) \n",
        "\n",
        "df['OBC_CLOSE'] = df['OBC_CLOSE'].astype(int) \n",
        "df['SC_OPEN'] = df['SC_OPEN'].astype(int) \n",
        "df['SC_CLOSE'] = df['SC_CLOSE'].astype(int) \n",
        "df['ST_OPEN'] = df['ST_OPEN'].astype(int) \n",
        "df['ST_CLOSE'] = df['ST_CLOSE'].astype(int) \n",
        "print(df.shape)\n",
        "df.info()"
      ],
      "execution_count": 21,
      "outputs": [
        {
          "output_type": "stream",
          "text": [
            "(212, 10)\n",
            "<class 'pandas.core.frame.DataFrame'>\n",
            "RangeIndex: 212 entries, 0 to 211\n",
            "Data columns (total 10 columns):\n",
            "College_Name     212 non-null object\n",
            "BRANCH_NAME      212 non-null object\n",
            "GENERAL_OPEN     212 non-null int64\n",
            "GENERAL_CLOSE    212 non-null int64\n",
            "OBC_OPEN         212 non-null int64\n",
            "OBC_CLOSE        212 non-null int64\n",
            "SC_OPEN          212 non-null int64\n",
            "SC_CLOSE         212 non-null int64\n",
            "ST_OPEN          212 non-null int64\n",
            "ST_CLOSE         212 non-null int64\n",
            "dtypes: int64(8), object(2)\n",
            "memory usage: 16.6+ KB\n"
          ],
          "name": "stdout"
        }
      ]
    },
    {
      "cell_type": "code",
      "metadata": {
        "id": "jKU1EHWa2tQu",
        "colab_type": "code",
        "colab": {
          "base_uri": "https://localhost:8080/",
          "height": 297
        },
        "outputId": "d2c3e998-b4e4-4c39-f407-585127db3c11"
      },
      "source": [
        "df.describe()"
      ],
      "execution_count": 22,
      "outputs": [
        {
          "output_type": "execute_result",
          "data": {
            "text/html": [
              "<div>\n",
              "<style scoped>\n",
              "    .dataframe tbody tr th:only-of-type {\n",
              "        vertical-align: middle;\n",
              "    }\n",
              "\n",
              "    .dataframe tbody tr th {\n",
              "        vertical-align: top;\n",
              "    }\n",
              "\n",
              "    .dataframe thead th {\n",
              "        text-align: right;\n",
              "    }\n",
              "</style>\n",
              "<table border=\"1\" class=\"dataframe\">\n",
              "  <thead>\n",
              "    <tr style=\"text-align: right;\">\n",
              "      <th></th>\n",
              "      <th>GENERAL_OPEN</th>\n",
              "      <th>GENERAL_CLOSE</th>\n",
              "      <th>OBC_OPEN</th>\n",
              "      <th>OBC_CLOSE</th>\n",
              "      <th>SC_OPEN</th>\n",
              "      <th>SC_CLOSE</th>\n",
              "      <th>ST_OPEN</th>\n",
              "      <th>ST_CLOSE</th>\n",
              "    </tr>\n",
              "  </thead>\n",
              "  <tbody>\n",
              "    <tr>\n",
              "      <th>count</th>\n",
              "      <td>212.000000</td>\n",
              "      <td>212.000000</td>\n",
              "      <td>212.000000</td>\n",
              "      <td>212.000000</td>\n",
              "      <td>212.000000</td>\n",
              "      <td>212.000000</td>\n",
              "      <td>212.000000</td>\n",
              "      <td>212.000000</td>\n",
              "    </tr>\n",
              "    <tr>\n",
              "      <th>mean</th>\n",
              "      <td>2745.080189</td>\n",
              "      <td>3724.514151</td>\n",
              "      <td>1342.075472</td>\n",
              "      <td>1734.136792</td>\n",
              "      <td>768.750000</td>\n",
              "      <td>980.235849</td>\n",
              "      <td>359.731132</td>\n",
              "      <td>426.816038</td>\n",
              "    </tr>\n",
              "    <tr>\n",
              "      <th>std</th>\n",
              "      <td>1888.583859</td>\n",
              "      <td>2070.029396</td>\n",
              "      <td>882.025767</td>\n",
              "      <td>916.554720</td>\n",
              "      <td>498.357433</td>\n",
              "      <td>511.100885</td>\n",
              "      <td>252.970201</td>\n",
              "      <td>257.754373</td>\n",
              "    </tr>\n",
              "    <tr>\n",
              "      <th>min</th>\n",
              "      <td>1.000000</td>\n",
              "      <td>59.000000</td>\n",
              "      <td>8.000000</td>\n",
              "      <td>38.000000</td>\n",
              "      <td>2.000000</td>\n",
              "      <td>19.000000</td>\n",
              "      <td>0.000000</td>\n",
              "      <td>0.000000</td>\n",
              "    </tr>\n",
              "    <tr>\n",
              "      <th>25%</th>\n",
              "      <td>1116.500000</td>\n",
              "      <td>2085.000000</td>\n",
              "      <td>556.500000</td>\n",
              "      <td>1010.500000</td>\n",
              "      <td>345.750000</td>\n",
              "      <td>557.500000</td>\n",
              "      <td>150.750000</td>\n",
              "      <td>244.250000</td>\n",
              "    </tr>\n",
              "    <tr>\n",
              "      <th>50%</th>\n",
              "      <td>2657.500000</td>\n",
              "      <td>3729.500000</td>\n",
              "      <td>1263.000000</td>\n",
              "      <td>1718.000000</td>\n",
              "      <td>739.500000</td>\n",
              "      <td>971.000000</td>\n",
              "      <td>339.500000</td>\n",
              "      <td>417.500000</td>\n",
              "    </tr>\n",
              "    <tr>\n",
              "      <th>75%</th>\n",
              "      <td>4130.750000</td>\n",
              "      <td>5550.000000</td>\n",
              "      <td>1907.000000</td>\n",
              "      <td>2444.500000</td>\n",
              "      <td>1147.750000</td>\n",
              "      <td>1366.750000</td>\n",
              "      <td>577.250000</td>\n",
              "      <td>627.000000</td>\n",
              "    </tr>\n",
              "    <tr>\n",
              "      <th>max</th>\n",
              "      <td>7076.000000</td>\n",
              "      <td>7419.000000</td>\n",
              "      <td>3963.000000</td>\n",
              "      <td>4185.000000</td>\n",
              "      <td>1789.000000</td>\n",
              "      <td>2077.000000</td>\n",
              "      <td>854.000000</td>\n",
              "      <td>856.000000</td>\n",
              "    </tr>\n",
              "  </tbody>\n",
              "</table>\n",
              "</div>"
            ],
            "text/plain": [
              "       GENERAL_OPEN  GENERAL_CLOSE  ...     ST_OPEN    ST_CLOSE\n",
              "count    212.000000     212.000000  ...  212.000000  212.000000\n",
              "mean    2745.080189    3724.514151  ...  359.731132  426.816038\n",
              "std     1888.583859    2070.029396  ...  252.970201  257.754373\n",
              "min        1.000000      59.000000  ...    0.000000    0.000000\n",
              "25%     1116.500000    2085.000000  ...  150.750000  244.250000\n",
              "50%     2657.500000    3729.500000  ...  339.500000  417.500000\n",
              "75%     4130.750000    5550.000000  ...  577.250000  627.000000\n",
              "max     7076.000000    7419.000000  ...  854.000000  856.000000\n",
              "\n",
              "[8 rows x 8 columns]"
            ]
          },
          "metadata": {
            "tags": []
          },
          "execution_count": 22
        }
      ]
    },
    {
      "cell_type": "code",
      "metadata": {
        "id": "LJYrQ3BqaIUX",
        "colab_type": "code",
        "colab": {
          "base_uri": "https://localhost:8080/",
          "height": 297
        },
        "outputId": "f30c0785-6613-40d8-df21-63750d31acc9"
      },
      "source": [
        "df.head(8)"
      ],
      "execution_count": 23,
      "outputs": [
        {
          "output_type": "execute_result",
          "data": {
            "text/html": [
              "<div>\n",
              "<style scoped>\n",
              "    .dataframe tbody tr th:only-of-type {\n",
              "        vertical-align: middle;\n",
              "    }\n",
              "\n",
              "    .dataframe tbody tr th {\n",
              "        vertical-align: top;\n",
              "    }\n",
              "\n",
              "    .dataframe thead th {\n",
              "        text-align: right;\n",
              "    }\n",
              "</style>\n",
              "<table border=\"1\" class=\"dataframe\">\n",
              "  <thead>\n",
              "    <tr style=\"text-align: right;\">\n",
              "      <th></th>\n",
              "      <th>College_Name</th>\n",
              "      <th>BRANCH_NAME</th>\n",
              "      <th>GENERAL_OPEN</th>\n",
              "      <th>GENERAL_CLOSE</th>\n",
              "      <th>OBC_OPEN</th>\n",
              "      <th>OBC_CLOSE</th>\n",
              "      <th>SC_OPEN</th>\n",
              "      <th>SC_CLOSE</th>\n",
              "      <th>ST_OPEN</th>\n",
              "      <th>ST_CLOSE</th>\n",
              "    </tr>\n",
              "  </thead>\n",
              "  <tbody>\n",
              "    <tr>\n",
              "      <th>0</th>\n",
              "      <td>IIT Bombay</td>\n",
              "      <td>Aerospace Engineering</td>\n",
              "      <td>405</td>\n",
              "      <td>1674</td>\n",
              "      <td>256</td>\n",
              "      <td>811</td>\n",
              "      <td>46</td>\n",
              "      <td>334</td>\n",
              "      <td>154</td>\n",
              "      <td>266</td>\n",
              "    </tr>\n",
              "    <tr>\n",
              "      <th>1</th>\n",
              "      <td>IIT Bombay</td>\n",
              "      <td>Chemical Engineering</td>\n",
              "      <td>727</td>\n",
              "      <td>1240</td>\n",
              "      <td>427</td>\n",
              "      <td>845</td>\n",
              "      <td>151</td>\n",
              "      <td>544</td>\n",
              "      <td>158</td>\n",
              "      <td>315</td>\n",
              "    </tr>\n",
              "    <tr>\n",
              "      <th>2</th>\n",
              "      <td>IIT Bombay</td>\n",
              "      <td>Civil Engineering</td>\n",
              "      <td>400</td>\n",
              "      <td>1688</td>\n",
              "      <td>379</td>\n",
              "      <td>873</td>\n",
              "      <td>107</td>\n",
              "      <td>372</td>\n",
              "      <td>69</td>\n",
              "      <td>96</td>\n",
              "    </tr>\n",
              "    <tr>\n",
              "      <th>3</th>\n",
              "      <td>IIT Bombay</td>\n",
              "      <td>Computer Engineering</td>\n",
              "      <td>1</td>\n",
              "      <td>59</td>\n",
              "      <td>8</td>\n",
              "      <td>38</td>\n",
              "      <td>2</td>\n",
              "      <td>19</td>\n",
              "      <td>3</td>\n",
              "      <td>21</td>\n",
              "    </tr>\n",
              "    <tr>\n",
              "      <th>4</th>\n",
              "      <td>IIT Bombay</td>\n",
              "      <td>Electrical Engineering</td>\n",
              "      <td>7</td>\n",
              "      <td>135</td>\n",
              "      <td>34</td>\n",
              "      <td>80</td>\n",
              "      <td>12</td>\n",
              "      <td>64</td>\n",
              "      <td>2</td>\n",
              "      <td>18</td>\n",
              "    </tr>\n",
              "    <tr>\n",
              "      <th>5</th>\n",
              "      <td>IIT Bombay</td>\n",
              "      <td>Engineering Physics</td>\n",
              "      <td>206</td>\n",
              "      <td>1090</td>\n",
              "      <td>455</td>\n",
              "      <td>815</td>\n",
              "      <td>15</td>\n",
              "      <td>490</td>\n",
              "      <td>151</td>\n",
              "      <td>426</td>\n",
              "    </tr>\n",
              "    <tr>\n",
              "      <th>6</th>\n",
              "      <td>IIT Bombay</td>\n",
              "      <td>Mechanical Engineering</td>\n",
              "      <td>24</td>\n",
              "      <td>488</td>\n",
              "      <td>88</td>\n",
              "      <td>231</td>\n",
              "      <td>29</td>\n",
              "      <td>105</td>\n",
              "      <td>22</td>\n",
              "      <td>52</td>\n",
              "    </tr>\n",
              "    <tr>\n",
              "      <th>7</th>\n",
              "      <td>IIT Bombay</td>\n",
              "      <td>Metallurgical Science</td>\n",
              "      <td>1243</td>\n",
              "      <td>2790</td>\n",
              "      <td>996</td>\n",
              "      <td>1716</td>\n",
              "      <td>526</td>\n",
              "      <td>982</td>\n",
              "      <td>239</td>\n",
              "      <td>522</td>\n",
              "    </tr>\n",
              "  </tbody>\n",
              "</table>\n",
              "</div>"
            ],
            "text/plain": [
              "  College_Name             BRANCH_NAME  ...  ST_OPEN  ST_CLOSE\n",
              "0   IIT Bombay   Aerospace Engineering  ...      154       266\n",
              "1   IIT Bombay    Chemical Engineering  ...      158       315\n",
              "2   IIT Bombay       Civil Engineering  ...       69        96\n",
              "3   IIT Bombay    Computer Engineering  ...        3        21\n",
              "4   IIT Bombay  Electrical Engineering  ...        2        18\n",
              "5   IIT Bombay     Engineering Physics  ...      151       426\n",
              "6   IIT Bombay  Mechanical Engineering  ...       22        52\n",
              "7   IIT Bombay   Metallurgical Science  ...      239       522\n",
              "\n",
              "[8 rows x 10 columns]"
            ]
          },
          "metadata": {
            "tags": []
          },
          "execution_count": 23
        }
      ]
    },
    {
      "cell_type": "markdown",
      "metadata": {
        "id": "-Z2c8a6SZ4bB",
        "colab_type": "text"
      },
      "source": [
        "#Till Now Everythng is Fine🎉✔\n",
        "\n",
        "#Now move on to the another part (design New table using same records) ✈"
      ]
    },
    {
      "cell_type": "code",
      "metadata": {
        "id": "c5uxLUpxcR6Y",
        "colab_type": "code",
        "colab": {
          "base_uri": "https://localhost:8080/",
          "height": 272
        },
        "outputId": "a391176e-8c68-4847-a285-18a47231a4c1"
      },
      "source": [
        "df1 = df.copy()\n",
        "df1.rename(columns = {\"BRANCH_NAME\":\"DEPARTMENT\" , \"College_Name\":\"INSTITUTE_NAME\"} ,inplace=True)\n",
        "df1.info()"
      ],
      "execution_count": 76,
      "outputs": [
        {
          "output_type": "stream",
          "text": [
            "<class 'pandas.core.frame.DataFrame'>\n",
            "RangeIndex: 212 entries, 0 to 211\n",
            "Data columns (total 10 columns):\n",
            "INSTITUTE_NAME    212 non-null object\n",
            "DEPARTMENT        212 non-null object\n",
            "GENERAL_OPEN      212 non-null int64\n",
            "GENERAL_CLOSE     212 non-null int64\n",
            "OBC_OPEN          212 non-null int64\n",
            "OBC_CLOSE         212 non-null int64\n",
            "SC_OPEN           212 non-null int64\n",
            "SC_CLOSE          212 non-null int64\n",
            "ST_OPEN           212 non-null int64\n",
            "ST_CLOSE          212 non-null int64\n",
            "dtypes: int64(8), object(2)\n",
            "memory usage: 16.6+ KB\n"
          ],
          "name": "stdout"
        }
      ]
    },
    {
      "cell_type": "code",
      "metadata": {
        "id": "FsqqDMxOcR4Z",
        "colab_type": "code",
        "colab": {
          "base_uri": "https://localhost:8080/",
          "height": 297
        },
        "outputId": "53c08ff0-6b99-4455-8031-54c7f9ca9b5b"
      },
      "source": [
        "df1.head(8)"
      ],
      "execution_count": 77,
      "outputs": [
        {
          "output_type": "execute_result",
          "data": {
            "text/html": [
              "<div>\n",
              "<style scoped>\n",
              "    .dataframe tbody tr th:only-of-type {\n",
              "        vertical-align: middle;\n",
              "    }\n",
              "\n",
              "    .dataframe tbody tr th {\n",
              "        vertical-align: top;\n",
              "    }\n",
              "\n",
              "    .dataframe thead th {\n",
              "        text-align: right;\n",
              "    }\n",
              "</style>\n",
              "<table border=\"1\" class=\"dataframe\">\n",
              "  <thead>\n",
              "    <tr style=\"text-align: right;\">\n",
              "      <th></th>\n",
              "      <th>INSTITUTE_NAME</th>\n",
              "      <th>DEPARTMENT</th>\n",
              "      <th>GENERAL_OPEN</th>\n",
              "      <th>GENERAL_CLOSE</th>\n",
              "      <th>OBC_OPEN</th>\n",
              "      <th>OBC_CLOSE</th>\n",
              "      <th>SC_OPEN</th>\n",
              "      <th>SC_CLOSE</th>\n",
              "      <th>ST_OPEN</th>\n",
              "      <th>ST_CLOSE</th>\n",
              "    </tr>\n",
              "  </thead>\n",
              "  <tbody>\n",
              "    <tr>\n",
              "      <th>0</th>\n",
              "      <td>IIT Bombay</td>\n",
              "      <td>Aerospace Engineering</td>\n",
              "      <td>405</td>\n",
              "      <td>1674</td>\n",
              "      <td>256</td>\n",
              "      <td>811</td>\n",
              "      <td>46</td>\n",
              "      <td>334</td>\n",
              "      <td>154</td>\n",
              "      <td>266</td>\n",
              "    </tr>\n",
              "    <tr>\n",
              "      <th>1</th>\n",
              "      <td>IIT Bombay</td>\n",
              "      <td>Chemical Engineering</td>\n",
              "      <td>727</td>\n",
              "      <td>1240</td>\n",
              "      <td>427</td>\n",
              "      <td>845</td>\n",
              "      <td>151</td>\n",
              "      <td>544</td>\n",
              "      <td>158</td>\n",
              "      <td>315</td>\n",
              "    </tr>\n",
              "    <tr>\n",
              "      <th>2</th>\n",
              "      <td>IIT Bombay</td>\n",
              "      <td>Civil Engineering</td>\n",
              "      <td>400</td>\n",
              "      <td>1688</td>\n",
              "      <td>379</td>\n",
              "      <td>873</td>\n",
              "      <td>107</td>\n",
              "      <td>372</td>\n",
              "      <td>69</td>\n",
              "      <td>96</td>\n",
              "    </tr>\n",
              "    <tr>\n",
              "      <th>3</th>\n",
              "      <td>IIT Bombay</td>\n",
              "      <td>Computer Engineering</td>\n",
              "      <td>1</td>\n",
              "      <td>59</td>\n",
              "      <td>8</td>\n",
              "      <td>38</td>\n",
              "      <td>2</td>\n",
              "      <td>19</td>\n",
              "      <td>3</td>\n",
              "      <td>21</td>\n",
              "    </tr>\n",
              "    <tr>\n",
              "      <th>4</th>\n",
              "      <td>IIT Bombay</td>\n",
              "      <td>Electrical Engineering</td>\n",
              "      <td>7</td>\n",
              "      <td>135</td>\n",
              "      <td>34</td>\n",
              "      <td>80</td>\n",
              "      <td>12</td>\n",
              "      <td>64</td>\n",
              "      <td>2</td>\n",
              "      <td>18</td>\n",
              "    </tr>\n",
              "    <tr>\n",
              "      <th>5</th>\n",
              "      <td>IIT Bombay</td>\n",
              "      <td>Engineering Physics</td>\n",
              "      <td>206</td>\n",
              "      <td>1090</td>\n",
              "      <td>455</td>\n",
              "      <td>815</td>\n",
              "      <td>15</td>\n",
              "      <td>490</td>\n",
              "      <td>151</td>\n",
              "      <td>426</td>\n",
              "    </tr>\n",
              "    <tr>\n",
              "      <th>6</th>\n",
              "      <td>IIT Bombay</td>\n",
              "      <td>Mechanical Engineering</td>\n",
              "      <td>24</td>\n",
              "      <td>488</td>\n",
              "      <td>88</td>\n",
              "      <td>231</td>\n",
              "      <td>29</td>\n",
              "      <td>105</td>\n",
              "      <td>22</td>\n",
              "      <td>52</td>\n",
              "    </tr>\n",
              "    <tr>\n",
              "      <th>7</th>\n",
              "      <td>IIT Bombay</td>\n",
              "      <td>Metallurgical Science</td>\n",
              "      <td>1243</td>\n",
              "      <td>2790</td>\n",
              "      <td>996</td>\n",
              "      <td>1716</td>\n",
              "      <td>526</td>\n",
              "      <td>982</td>\n",
              "      <td>239</td>\n",
              "      <td>522</td>\n",
              "    </tr>\n",
              "  </tbody>\n",
              "</table>\n",
              "</div>"
            ],
            "text/plain": [
              "  INSTITUTE_NAME              DEPARTMENT  ...  ST_OPEN  ST_CLOSE\n",
              "0     IIT Bombay   Aerospace Engineering  ...      154       266\n",
              "1     IIT Bombay    Chemical Engineering  ...      158       315\n",
              "2     IIT Bombay       Civil Engineering  ...       69        96\n",
              "3     IIT Bombay    Computer Engineering  ...        3        21\n",
              "4     IIT Bombay  Electrical Engineering  ...        2        18\n",
              "5     IIT Bombay     Engineering Physics  ...      151       426\n",
              "6     IIT Bombay  Mechanical Engineering  ...       22        52\n",
              "7     IIT Bombay   Metallurgical Science  ...      239       522\n",
              "\n",
              "[8 rows x 10 columns]"
            ]
          },
          "metadata": {
            "tags": []
          },
          "execution_count": 77
        }
      ]
    },
    {
      "cell_type": "markdown",
      "metadata": {
        "id": "PuAg5PFMdo75",
        "colab_type": "text"
      },
      "source": [
        "#1.) Based on openting Rank ✔✌"
      ]
    },
    {
      "cell_type": "code",
      "metadata": {
        "id": "W-iMAWVVcR2f",
        "colab_type": "code",
        "colab": {}
      },
      "source": [
        "df1.drop(['GENERAL_CLOSE' ,'OBC_CLOSE' , 'SC_CLOSE' ,  'ST_CLOSE'] , axis=1 , inplace= True)"
      ],
      "execution_count": 0,
      "outputs": []
    },
    {
      "cell_type": "code",
      "metadata": {
        "id": "hMN5UIOKfM84",
        "colab_type": "code",
        "colab": {}
      },
      "source": [
        "# df1['College_Name'] = df1['College_Name'].apply(lambda x:','+str(x))\n",
        "# df1.head()"
      ],
      "execution_count": 0,
      "outputs": []
    },
    {
      "cell_type": "code",
      "metadata": {
        "id": "-g4E6i0BcRz3",
        "colab_type": "code",
        "colab": {}
      },
      "source": [
        "# gen = list(df1['GENERAL_OPEN']) \n",
        "# obc = list(df1['OBC_OPEN']) \n",
        "# sc = list(df1['SC_OPEN']) \n",
        "# st = list(df1['ST_OPEN']) \n",
        "# second = list(df1['College_Name'])\n",
        "\n",
        "\n",
        "# # print([x + y for x, y in zip(gen, second)])\n",
        "# # print([x + y for x, y in zip(obc, second)])\n",
        "# # print([x + y for x, y in zip(sc, second)])\n",
        "# # print([x + y for x, y in zip(st, second)])\n",
        "\n",
        "\n",
        "# df1['GENERAL'] = [x + y for x, y in zip(gen, second)]\n",
        "# df1['OBC'] = [x + y for x, y in zip(obc, second)]\n",
        "# df1['SC'] = [x + y for x, y in zip(sc, second)]\n",
        "# df1['ST'] = [x + y for x, y in zip(st, second)]\n",
        "# df1.drop(['GENERAL_OPEN','OBC_OPEN' , 'SC_OPEN' ,'ST_OPEN' ,'College_Name' ] , axis =1 , inplace =True)"
      ],
      "execution_count": 0,
      "outputs": []
    },
    {
      "cell_type": "code",
      "metadata": {
        "id": "3oSZxNSFcRxZ",
        "colab_type": "code",
        "colab": {
          "base_uri": "https://localhost:8080/",
          "height": 221
        },
        "outputId": "1663da07-d02b-4bc3-a869-6a176132572a"
      },
      "source": [
        "print(df1.shape)\n",
        "df1.head()"
      ],
      "execution_count": 79,
      "outputs": [
        {
          "output_type": "stream",
          "text": [
            "(212, 6)\n"
          ],
          "name": "stdout"
        },
        {
          "output_type": "execute_result",
          "data": {
            "text/html": [
              "<div>\n",
              "<style scoped>\n",
              "    .dataframe tbody tr th:only-of-type {\n",
              "        vertical-align: middle;\n",
              "    }\n",
              "\n",
              "    .dataframe tbody tr th {\n",
              "        vertical-align: top;\n",
              "    }\n",
              "\n",
              "    .dataframe thead th {\n",
              "        text-align: right;\n",
              "    }\n",
              "</style>\n",
              "<table border=\"1\" class=\"dataframe\">\n",
              "  <thead>\n",
              "    <tr style=\"text-align: right;\">\n",
              "      <th></th>\n",
              "      <th>INSTITUTE_NAME</th>\n",
              "      <th>DEPARTMENT</th>\n",
              "      <th>GENERAL_OPEN</th>\n",
              "      <th>OBC_OPEN</th>\n",
              "      <th>SC_OPEN</th>\n",
              "      <th>ST_OPEN</th>\n",
              "    </tr>\n",
              "  </thead>\n",
              "  <tbody>\n",
              "    <tr>\n",
              "      <th>0</th>\n",
              "      <td>IIT Bombay</td>\n",
              "      <td>Aerospace Engineering</td>\n",
              "      <td>405</td>\n",
              "      <td>256</td>\n",
              "      <td>46</td>\n",
              "      <td>154</td>\n",
              "    </tr>\n",
              "    <tr>\n",
              "      <th>1</th>\n",
              "      <td>IIT Bombay</td>\n",
              "      <td>Chemical Engineering</td>\n",
              "      <td>727</td>\n",
              "      <td>427</td>\n",
              "      <td>151</td>\n",
              "      <td>158</td>\n",
              "    </tr>\n",
              "    <tr>\n",
              "      <th>2</th>\n",
              "      <td>IIT Bombay</td>\n",
              "      <td>Civil Engineering</td>\n",
              "      <td>400</td>\n",
              "      <td>379</td>\n",
              "      <td>107</td>\n",
              "      <td>69</td>\n",
              "    </tr>\n",
              "    <tr>\n",
              "      <th>3</th>\n",
              "      <td>IIT Bombay</td>\n",
              "      <td>Computer Engineering</td>\n",
              "      <td>1</td>\n",
              "      <td>8</td>\n",
              "      <td>2</td>\n",
              "      <td>3</td>\n",
              "    </tr>\n",
              "    <tr>\n",
              "      <th>4</th>\n",
              "      <td>IIT Bombay</td>\n",
              "      <td>Electrical Engineering</td>\n",
              "      <td>7</td>\n",
              "      <td>34</td>\n",
              "      <td>12</td>\n",
              "      <td>2</td>\n",
              "    </tr>\n",
              "  </tbody>\n",
              "</table>\n",
              "</div>"
            ],
            "text/plain": [
              "  INSTITUTE_NAME              DEPARTMENT  ...  SC_OPEN  ST_OPEN\n",
              "0     IIT Bombay   Aerospace Engineering  ...       46      154\n",
              "1     IIT Bombay    Chemical Engineering  ...      151      158\n",
              "2     IIT Bombay       Civil Engineering  ...      107       69\n",
              "3     IIT Bombay    Computer Engineering  ...        2        3\n",
              "4     IIT Bombay  Electrical Engineering  ...       12        2\n",
              "\n",
              "[5 rows x 6 columns]"
            ]
          },
          "metadata": {
            "tags": []
          },
          "execution_count": 79
        }
      ]
    },
    {
      "cell_type": "code",
      "metadata": {
        "id": "Hc4pPVU1cRt2",
        "colab_type": "code",
        "colab": {}
      },
      "source": [
        "#For General\n",
        "dfa = df1.iloc[: , :3]\n",
        "cat1 = []\n",
        "for i in range(len(dfa)):\n",
        "  cat1.append('GENERAL')\n",
        "dfa['CATEGORY'] =cat1\n",
        "dfa.rename(columns = {\"GENERAL_OPEN\":\"RANK_PREDICTOR\"} , inplace=True)"
      ],
      "execution_count": 0,
      "outputs": []
    },
    {
      "cell_type": "code",
      "metadata": {
        "id": "uvXVWBU9cRq2",
        "colab_type": "code",
        "colab": {}
      },
      "source": [
        "#For OBC\n",
        "dfb = df1.iloc[: , [0,1,3]]\n",
        "cat2 = []\n",
        "for i in range(len(dfb)):\n",
        "  cat2.append('OBC')\n",
        "dfb['CATEGORY'] =cat2\n",
        "dfb.rename(columns = {\"OBC_OPEN\":\"RANK_PREDICTOR\"} , inplace=True)"
      ],
      "execution_count": 0,
      "outputs": []
    },
    {
      "cell_type": "code",
      "metadata": {
        "id": "LOabAjMboMtZ",
        "colab_type": "code",
        "colab": {}
      },
      "source": [
        "#For SC\n",
        "dfc = df1.iloc[: , [0,1,4]]\n",
        "cat3 = []\n",
        "for i in range(len(dfc)):\n",
        "  cat3.append('SC')\n",
        "dfc['CATEGORY'] =cat3\n",
        "dfc.rename(columns = {\"SC_OPEN\":\"RANK_PREDICTOR\"} , inplace=True)"
      ],
      "execution_count": 0,
      "outputs": []
    },
    {
      "cell_type": "code",
      "metadata": {
        "id": "NCRLDRCtoMf6",
        "colab_type": "code",
        "colab": {}
      },
      "source": [
        "#For ST\n",
        "dfd = df1.iloc[: , [0,1,5]]\n",
        "cat4 = []\n",
        "for i in range(len(dfd)):\n",
        "  cat4.append('ST')\n",
        "dfd['CATEGORY'] =cat4\n",
        "dfd.rename(columns = {\"ST_OPEN\":\"RANK_PREDICTOR\"} , inplace=True)"
      ],
      "execution_count": 0,
      "outputs": []
    },
    {
      "cell_type": "code",
      "metadata": {
        "id": "vlE1fsN1lRzN",
        "colab_type": "code",
        "colab": {
          "base_uri": "https://localhost:8080/",
          "height": 221
        },
        "outputId": "1e93ed73-2200-4a17-a0a1-85b8e6ec7083"
      },
      "source": [
        "print(dfa.shape)\n",
        "dfa.head()"
      ],
      "execution_count": 168,
      "outputs": [
        {
          "output_type": "stream",
          "text": [
            "(212, 4)\n"
          ],
          "name": "stdout"
        },
        {
          "output_type": "execute_result",
          "data": {
            "text/html": [
              "<div>\n",
              "<style scoped>\n",
              "    .dataframe tbody tr th:only-of-type {\n",
              "        vertical-align: middle;\n",
              "    }\n",
              "\n",
              "    .dataframe tbody tr th {\n",
              "        vertical-align: top;\n",
              "    }\n",
              "\n",
              "    .dataframe thead th {\n",
              "        text-align: right;\n",
              "    }\n",
              "</style>\n",
              "<table border=\"1\" class=\"dataframe\">\n",
              "  <thead>\n",
              "    <tr style=\"text-align: right;\">\n",
              "      <th></th>\n",
              "      <th>INSTITUTE_NAME</th>\n",
              "      <th>DEPARTMENT</th>\n",
              "      <th>RANK_PREDICTOR</th>\n",
              "      <th>CATEGORY</th>\n",
              "    </tr>\n",
              "  </thead>\n",
              "  <tbody>\n",
              "    <tr>\n",
              "      <th>0</th>\n",
              "      <td>IIT Bombay</td>\n",
              "      <td>Aerospace Engineering</td>\n",
              "      <td>405</td>\n",
              "      <td>GENERAL</td>\n",
              "    </tr>\n",
              "    <tr>\n",
              "      <th>1</th>\n",
              "      <td>IIT Bombay</td>\n",
              "      <td>Chemical Engineering</td>\n",
              "      <td>727</td>\n",
              "      <td>GENERAL</td>\n",
              "    </tr>\n",
              "    <tr>\n",
              "      <th>2</th>\n",
              "      <td>IIT Bombay</td>\n",
              "      <td>Civil Engineering</td>\n",
              "      <td>400</td>\n",
              "      <td>GENERAL</td>\n",
              "    </tr>\n",
              "    <tr>\n",
              "      <th>3</th>\n",
              "      <td>IIT Bombay</td>\n",
              "      <td>Computer Engineering</td>\n",
              "      <td>1</td>\n",
              "      <td>GENERAL</td>\n",
              "    </tr>\n",
              "    <tr>\n",
              "      <th>4</th>\n",
              "      <td>IIT Bombay</td>\n",
              "      <td>Electrical Engineering</td>\n",
              "      <td>7</td>\n",
              "      <td>GENERAL</td>\n",
              "    </tr>\n",
              "  </tbody>\n",
              "</table>\n",
              "</div>"
            ],
            "text/plain": [
              "  INSTITUTE_NAME              DEPARTMENT  RANK_PREDICTOR CATEGORY\n",
              "0     IIT Bombay   Aerospace Engineering             405  GENERAL\n",
              "1     IIT Bombay    Chemical Engineering             727  GENERAL\n",
              "2     IIT Bombay       Civil Engineering             400  GENERAL\n",
              "3     IIT Bombay    Computer Engineering               1  GENERAL\n",
              "4     IIT Bombay  Electrical Engineering               7  GENERAL"
            ]
          },
          "metadata": {
            "tags": []
          },
          "execution_count": 168
        }
      ]
    },
    {
      "cell_type": "code",
      "metadata": {
        "id": "c5Y8VbG_cRnv",
        "colab_type": "code",
        "colab": {
          "base_uri": "https://localhost:8080/",
          "height": 221
        },
        "outputId": "59f9947d-dddd-4d17-a2d8-f2e3a5d02a1d"
      },
      "source": [
        "print(dfb.shape)\n",
        "dfb.head()"
      ],
      "execution_count": 169,
      "outputs": [
        {
          "output_type": "stream",
          "text": [
            "(212, 4)\n"
          ],
          "name": "stdout"
        },
        {
          "output_type": "execute_result",
          "data": {
            "text/html": [
              "<div>\n",
              "<style scoped>\n",
              "    .dataframe tbody tr th:only-of-type {\n",
              "        vertical-align: middle;\n",
              "    }\n",
              "\n",
              "    .dataframe tbody tr th {\n",
              "        vertical-align: top;\n",
              "    }\n",
              "\n",
              "    .dataframe thead th {\n",
              "        text-align: right;\n",
              "    }\n",
              "</style>\n",
              "<table border=\"1\" class=\"dataframe\">\n",
              "  <thead>\n",
              "    <tr style=\"text-align: right;\">\n",
              "      <th></th>\n",
              "      <th>INSTITUTE_NAME</th>\n",
              "      <th>DEPARTMENT</th>\n",
              "      <th>RANK_PREDICTOR</th>\n",
              "      <th>CATEGORY</th>\n",
              "    </tr>\n",
              "  </thead>\n",
              "  <tbody>\n",
              "    <tr>\n",
              "      <th>0</th>\n",
              "      <td>IIT Bombay</td>\n",
              "      <td>Aerospace Engineering</td>\n",
              "      <td>256</td>\n",
              "      <td>OBC</td>\n",
              "    </tr>\n",
              "    <tr>\n",
              "      <th>1</th>\n",
              "      <td>IIT Bombay</td>\n",
              "      <td>Chemical Engineering</td>\n",
              "      <td>427</td>\n",
              "      <td>OBC</td>\n",
              "    </tr>\n",
              "    <tr>\n",
              "      <th>2</th>\n",
              "      <td>IIT Bombay</td>\n",
              "      <td>Civil Engineering</td>\n",
              "      <td>379</td>\n",
              "      <td>OBC</td>\n",
              "    </tr>\n",
              "    <tr>\n",
              "      <th>3</th>\n",
              "      <td>IIT Bombay</td>\n",
              "      <td>Computer Engineering</td>\n",
              "      <td>8</td>\n",
              "      <td>OBC</td>\n",
              "    </tr>\n",
              "    <tr>\n",
              "      <th>4</th>\n",
              "      <td>IIT Bombay</td>\n",
              "      <td>Electrical Engineering</td>\n",
              "      <td>34</td>\n",
              "      <td>OBC</td>\n",
              "    </tr>\n",
              "  </tbody>\n",
              "</table>\n",
              "</div>"
            ],
            "text/plain": [
              "  INSTITUTE_NAME              DEPARTMENT  RANK_PREDICTOR CATEGORY\n",
              "0     IIT Bombay   Aerospace Engineering             256      OBC\n",
              "1     IIT Bombay    Chemical Engineering             427      OBC\n",
              "2     IIT Bombay       Civil Engineering             379      OBC\n",
              "3     IIT Bombay    Computer Engineering               8      OBC\n",
              "4     IIT Bombay  Electrical Engineering              34      OBC"
            ]
          },
          "metadata": {
            "tags": []
          },
          "execution_count": 169
        }
      ]
    },
    {
      "cell_type": "code",
      "metadata": {
        "id": "h3Y9gxcv2tMn",
        "colab_type": "code",
        "colab": {
          "base_uri": "https://localhost:8080/",
          "height": 221
        },
        "outputId": "bdb4796c-526e-459b-bcb6-6e8cc7802933"
      },
      "source": [
        "print(dfc.shape)\n",
        "dfc.head()"
      ],
      "execution_count": 170,
      "outputs": [
        {
          "output_type": "stream",
          "text": [
            "(212, 4)\n"
          ],
          "name": "stdout"
        },
        {
          "output_type": "execute_result",
          "data": {
            "text/html": [
              "<div>\n",
              "<style scoped>\n",
              "    .dataframe tbody tr th:only-of-type {\n",
              "        vertical-align: middle;\n",
              "    }\n",
              "\n",
              "    .dataframe tbody tr th {\n",
              "        vertical-align: top;\n",
              "    }\n",
              "\n",
              "    .dataframe thead th {\n",
              "        text-align: right;\n",
              "    }\n",
              "</style>\n",
              "<table border=\"1\" class=\"dataframe\">\n",
              "  <thead>\n",
              "    <tr style=\"text-align: right;\">\n",
              "      <th></th>\n",
              "      <th>INSTITUTE_NAME</th>\n",
              "      <th>DEPARTMENT</th>\n",
              "      <th>RANK_PREDICTOR</th>\n",
              "      <th>CATEGORY</th>\n",
              "    </tr>\n",
              "  </thead>\n",
              "  <tbody>\n",
              "    <tr>\n",
              "      <th>0</th>\n",
              "      <td>IIT Bombay</td>\n",
              "      <td>Aerospace Engineering</td>\n",
              "      <td>46</td>\n",
              "      <td>SC</td>\n",
              "    </tr>\n",
              "    <tr>\n",
              "      <th>1</th>\n",
              "      <td>IIT Bombay</td>\n",
              "      <td>Chemical Engineering</td>\n",
              "      <td>151</td>\n",
              "      <td>SC</td>\n",
              "    </tr>\n",
              "    <tr>\n",
              "      <th>2</th>\n",
              "      <td>IIT Bombay</td>\n",
              "      <td>Civil Engineering</td>\n",
              "      <td>107</td>\n",
              "      <td>SC</td>\n",
              "    </tr>\n",
              "    <tr>\n",
              "      <th>3</th>\n",
              "      <td>IIT Bombay</td>\n",
              "      <td>Computer Engineering</td>\n",
              "      <td>2</td>\n",
              "      <td>SC</td>\n",
              "    </tr>\n",
              "    <tr>\n",
              "      <th>4</th>\n",
              "      <td>IIT Bombay</td>\n",
              "      <td>Electrical Engineering</td>\n",
              "      <td>12</td>\n",
              "      <td>SC</td>\n",
              "    </tr>\n",
              "  </tbody>\n",
              "</table>\n",
              "</div>"
            ],
            "text/plain": [
              "  INSTITUTE_NAME              DEPARTMENT  RANK_PREDICTOR CATEGORY\n",
              "0     IIT Bombay   Aerospace Engineering              46       SC\n",
              "1     IIT Bombay    Chemical Engineering             151       SC\n",
              "2     IIT Bombay       Civil Engineering             107       SC\n",
              "3     IIT Bombay    Computer Engineering               2       SC\n",
              "4     IIT Bombay  Electrical Engineering              12       SC"
            ]
          },
          "metadata": {
            "tags": []
          },
          "execution_count": 170
        }
      ]
    },
    {
      "cell_type": "code",
      "metadata": {
        "id": "ZCcix0bS2tKc",
        "colab_type": "code",
        "colab": {
          "base_uri": "https://localhost:8080/",
          "height": 221
        },
        "outputId": "cde3de1e-5d4b-4e95-bec5-a7f87f0e9fc2"
      },
      "source": [
        "print(dfd.shape)\n",
        "dfd.head()"
      ],
      "execution_count": 171,
      "outputs": [
        {
          "output_type": "stream",
          "text": [
            "(212, 4)\n"
          ],
          "name": "stdout"
        },
        {
          "output_type": "execute_result",
          "data": {
            "text/html": [
              "<div>\n",
              "<style scoped>\n",
              "    .dataframe tbody tr th:only-of-type {\n",
              "        vertical-align: middle;\n",
              "    }\n",
              "\n",
              "    .dataframe tbody tr th {\n",
              "        vertical-align: top;\n",
              "    }\n",
              "\n",
              "    .dataframe thead th {\n",
              "        text-align: right;\n",
              "    }\n",
              "</style>\n",
              "<table border=\"1\" class=\"dataframe\">\n",
              "  <thead>\n",
              "    <tr style=\"text-align: right;\">\n",
              "      <th></th>\n",
              "      <th>INSTITUTE_NAME</th>\n",
              "      <th>DEPARTMENT</th>\n",
              "      <th>RANK_PREDICTOR</th>\n",
              "      <th>CATEGORY</th>\n",
              "    </tr>\n",
              "  </thead>\n",
              "  <tbody>\n",
              "    <tr>\n",
              "      <th>0</th>\n",
              "      <td>IIT Bombay</td>\n",
              "      <td>Aerospace Engineering</td>\n",
              "      <td>154</td>\n",
              "      <td>ST</td>\n",
              "    </tr>\n",
              "    <tr>\n",
              "      <th>1</th>\n",
              "      <td>IIT Bombay</td>\n",
              "      <td>Chemical Engineering</td>\n",
              "      <td>158</td>\n",
              "      <td>ST</td>\n",
              "    </tr>\n",
              "    <tr>\n",
              "      <th>2</th>\n",
              "      <td>IIT Bombay</td>\n",
              "      <td>Civil Engineering</td>\n",
              "      <td>69</td>\n",
              "      <td>ST</td>\n",
              "    </tr>\n",
              "    <tr>\n",
              "      <th>3</th>\n",
              "      <td>IIT Bombay</td>\n",
              "      <td>Computer Engineering</td>\n",
              "      <td>3</td>\n",
              "      <td>ST</td>\n",
              "    </tr>\n",
              "    <tr>\n",
              "      <th>4</th>\n",
              "      <td>IIT Bombay</td>\n",
              "      <td>Electrical Engineering</td>\n",
              "      <td>2</td>\n",
              "      <td>ST</td>\n",
              "    </tr>\n",
              "  </tbody>\n",
              "</table>\n",
              "</div>"
            ],
            "text/plain": [
              "  INSTITUTE_NAME              DEPARTMENT  RANK_PREDICTOR CATEGORY\n",
              "0     IIT Bombay   Aerospace Engineering             154       ST\n",
              "1     IIT Bombay    Chemical Engineering             158       ST\n",
              "2     IIT Bombay       Civil Engineering              69       ST\n",
              "3     IIT Bombay    Computer Engineering               3       ST\n",
              "4     IIT Bombay  Electrical Engineering               2       ST"
            ]
          },
          "metadata": {
            "tags": []
          },
          "execution_count": 171
        }
      ]
    },
    {
      "cell_type": "code",
      "metadata": {
        "id": "FidlJ6Bn2shS",
        "colab_type": "code",
        "colab": {
          "base_uri": "https://localhost:8080/",
          "height": 34
        },
        "outputId": "fd3203b6-2f0a-4f60-fa9e-e6b2aba306dc"
      },
      "source": [
        "table = pd.concat([dfa ,dfb,dfc, dfd] , ignore_index =True)\n",
        "print(table.shape)"
      ],
      "execution_count": 172,
      "outputs": [
        {
          "output_type": "stream",
          "text": [
            "(848, 4)\n"
          ],
          "name": "stdout"
        }
      ]
    },
    {
      "cell_type": "code",
      "metadata": {
        "id": "0ytIsA-v2Fkr",
        "colab_type": "code",
        "colab": {
          "base_uri": "https://localhost:8080/",
          "height": 204
        },
        "outputId": "cecc0795-2fb8-48c7-c121-d5b2e6890926"
      },
      "source": [
        "table.head()"
      ],
      "execution_count": 173,
      "outputs": [
        {
          "output_type": "execute_result",
          "data": {
            "text/html": [
              "<div>\n",
              "<style scoped>\n",
              "    .dataframe tbody tr th:only-of-type {\n",
              "        vertical-align: middle;\n",
              "    }\n",
              "\n",
              "    .dataframe tbody tr th {\n",
              "        vertical-align: top;\n",
              "    }\n",
              "\n",
              "    .dataframe thead th {\n",
              "        text-align: right;\n",
              "    }\n",
              "</style>\n",
              "<table border=\"1\" class=\"dataframe\">\n",
              "  <thead>\n",
              "    <tr style=\"text-align: right;\">\n",
              "      <th></th>\n",
              "      <th>INSTITUTE_NAME</th>\n",
              "      <th>DEPARTMENT</th>\n",
              "      <th>RANK_PREDICTOR</th>\n",
              "      <th>CATEGORY</th>\n",
              "    </tr>\n",
              "  </thead>\n",
              "  <tbody>\n",
              "    <tr>\n",
              "      <th>0</th>\n",
              "      <td>IIT Bombay</td>\n",
              "      <td>Aerospace Engineering</td>\n",
              "      <td>405</td>\n",
              "      <td>GENERAL</td>\n",
              "    </tr>\n",
              "    <tr>\n",
              "      <th>1</th>\n",
              "      <td>IIT Bombay</td>\n",
              "      <td>Chemical Engineering</td>\n",
              "      <td>727</td>\n",
              "      <td>GENERAL</td>\n",
              "    </tr>\n",
              "    <tr>\n",
              "      <th>2</th>\n",
              "      <td>IIT Bombay</td>\n",
              "      <td>Civil Engineering</td>\n",
              "      <td>400</td>\n",
              "      <td>GENERAL</td>\n",
              "    </tr>\n",
              "    <tr>\n",
              "      <th>3</th>\n",
              "      <td>IIT Bombay</td>\n",
              "      <td>Computer Engineering</td>\n",
              "      <td>1</td>\n",
              "      <td>GENERAL</td>\n",
              "    </tr>\n",
              "    <tr>\n",
              "      <th>4</th>\n",
              "      <td>IIT Bombay</td>\n",
              "      <td>Electrical Engineering</td>\n",
              "      <td>7</td>\n",
              "      <td>GENERAL</td>\n",
              "    </tr>\n",
              "  </tbody>\n",
              "</table>\n",
              "</div>"
            ],
            "text/plain": [
              "  INSTITUTE_NAME              DEPARTMENT  RANK_PREDICTOR CATEGORY\n",
              "0     IIT Bombay   Aerospace Engineering             405  GENERAL\n",
              "1     IIT Bombay    Chemical Engineering             727  GENERAL\n",
              "2     IIT Bombay       Civil Engineering             400  GENERAL\n",
              "3     IIT Bombay    Computer Engineering               1  GENERAL\n",
              "4     IIT Bombay  Electrical Engineering               7  GENERAL"
            ]
          },
          "metadata": {
            "tags": []
          },
          "execution_count": 173
        }
      ]
    },
    {
      "cell_type": "markdown",
      "metadata": {
        "id": "pMTfyPSzpyj7",
        "colab_type": "text"
      },
      "source": [
        "###Find Duplicate Rows"
      ]
    },
    {
      "cell_type": "code",
      "metadata": {
        "id": "XpquYxYJ2jHn",
        "colab_type": "code",
        "colab": {
          "base_uri": "https://localhost:8080/",
          "height": 111
        },
        "outputId": "de044f1e-1ae2-406d-8703-643f3e678920"
      },
      "source": [
        "table[table.duplicated(keep=False)]"
      ],
      "execution_count": 174,
      "outputs": [
        {
          "output_type": "execute_result",
          "data": {
            "text/html": [
              "<div>\n",
              "<style scoped>\n",
              "    .dataframe tbody tr th:only-of-type {\n",
              "        vertical-align: middle;\n",
              "    }\n",
              "\n",
              "    .dataframe tbody tr th {\n",
              "        vertical-align: top;\n",
              "    }\n",
              "\n",
              "    .dataframe thead th {\n",
              "        text-align: right;\n",
              "    }\n",
              "</style>\n",
              "<table border=\"1\" class=\"dataframe\">\n",
              "  <thead>\n",
              "    <tr style=\"text-align: right;\">\n",
              "      <th></th>\n",
              "      <th>INSTITUTE_NAME</th>\n",
              "      <th>DEPARTMENT</th>\n",
              "      <th>RANK_PREDICTOR</th>\n",
              "      <th>CATEGORY</th>\n",
              "    </tr>\n",
              "  </thead>\n",
              "  <tbody>\n",
              "    <tr>\n",
              "      <th>813</th>\n",
              "      <td>IIT (BHU) Varanasi</td>\n",
              "      <td>Pharmaceutics</td>\n",
              "      <td>0</td>\n",
              "      <td>ST</td>\n",
              "    </tr>\n",
              "    <tr>\n",
              "      <th>827</th>\n",
              "      <td>IIT (BHU) Varanasi</td>\n",
              "      <td>Pharmaceutics</td>\n",
              "      <td>0</td>\n",
              "      <td>ST</td>\n",
              "    </tr>\n",
              "  </tbody>\n",
              "</table>\n",
              "</div>"
            ],
            "text/plain": [
              "         INSTITUTE_NAME     DEPARTMENT  RANK_PREDICTOR CATEGORY\n",
              "813  IIT (BHU) Varanasi  Pharmaceutics               0       ST\n",
              "827  IIT (BHU) Varanasi  Pharmaceutics               0       ST"
            ]
          },
          "metadata": {
            "tags": []
          },
          "execution_count": 174
        }
      ]
    },
    {
      "cell_type": "code",
      "metadata": {
        "id": "_i3LrpGI2jF4",
        "colab_type": "code",
        "colab": {
          "base_uri": "https://localhost:8080/",
          "height": 221
        },
        "outputId": "89c51fdf-075c-45ad-df1a-80c74319b684"
      },
      "source": [
        "table.drop(813 , axis =0 , inplace =True)\n",
        "print(table.shape)\n",
        "table.head()"
      ],
      "execution_count": 175,
      "outputs": [
        {
          "output_type": "stream",
          "text": [
            "(847, 4)\n"
          ],
          "name": "stdout"
        },
        {
          "output_type": "execute_result",
          "data": {
            "text/html": [
              "<div>\n",
              "<style scoped>\n",
              "    .dataframe tbody tr th:only-of-type {\n",
              "        vertical-align: middle;\n",
              "    }\n",
              "\n",
              "    .dataframe tbody tr th {\n",
              "        vertical-align: top;\n",
              "    }\n",
              "\n",
              "    .dataframe thead th {\n",
              "        text-align: right;\n",
              "    }\n",
              "</style>\n",
              "<table border=\"1\" class=\"dataframe\">\n",
              "  <thead>\n",
              "    <tr style=\"text-align: right;\">\n",
              "      <th></th>\n",
              "      <th>INSTITUTE_NAME</th>\n",
              "      <th>DEPARTMENT</th>\n",
              "      <th>RANK_PREDICTOR</th>\n",
              "      <th>CATEGORY</th>\n",
              "    </tr>\n",
              "  </thead>\n",
              "  <tbody>\n",
              "    <tr>\n",
              "      <th>0</th>\n",
              "      <td>IIT Bombay</td>\n",
              "      <td>Aerospace Engineering</td>\n",
              "      <td>405</td>\n",
              "      <td>GENERAL</td>\n",
              "    </tr>\n",
              "    <tr>\n",
              "      <th>1</th>\n",
              "      <td>IIT Bombay</td>\n",
              "      <td>Chemical Engineering</td>\n",
              "      <td>727</td>\n",
              "      <td>GENERAL</td>\n",
              "    </tr>\n",
              "    <tr>\n",
              "      <th>2</th>\n",
              "      <td>IIT Bombay</td>\n",
              "      <td>Civil Engineering</td>\n",
              "      <td>400</td>\n",
              "      <td>GENERAL</td>\n",
              "    </tr>\n",
              "    <tr>\n",
              "      <th>3</th>\n",
              "      <td>IIT Bombay</td>\n",
              "      <td>Computer Engineering</td>\n",
              "      <td>1</td>\n",
              "      <td>GENERAL</td>\n",
              "    </tr>\n",
              "    <tr>\n",
              "      <th>4</th>\n",
              "      <td>IIT Bombay</td>\n",
              "      <td>Electrical Engineering</td>\n",
              "      <td>7</td>\n",
              "      <td>GENERAL</td>\n",
              "    </tr>\n",
              "  </tbody>\n",
              "</table>\n",
              "</div>"
            ],
            "text/plain": [
              "  INSTITUTE_NAME              DEPARTMENT  RANK_PREDICTOR CATEGORY\n",
              "0     IIT Bombay   Aerospace Engineering             405  GENERAL\n",
              "1     IIT Bombay    Chemical Engineering             727  GENERAL\n",
              "2     IIT Bombay       Civil Engineering             400  GENERAL\n",
              "3     IIT Bombay    Computer Engineering               1  GENERAL\n",
              "4     IIT Bombay  Electrical Engineering               7  GENERAL"
            ]
          },
          "metadata": {
            "tags": []
          },
          "execution_count": 175
        }
      ]
    },
    {
      "cell_type": "code",
      "metadata": {
        "id": "8IliynWPqsCN",
        "colab_type": "code",
        "colab": {}
      },
      "source": [
        "table.reset_index(inplace=True)\n",
        "table.drop('index' , axis = 1 ,inplace=True)"
      ],
      "execution_count": 0,
      "outputs": []
    },
    {
      "cell_type": "code",
      "metadata": {
        "id": "kxW_JKoT2jCx",
        "colab_type": "code",
        "colab": {
          "base_uri": "https://localhost:8080/",
          "height": 34
        },
        "outputId": "ede694e9-c707-4131-ccda-5b1a7a3f293e"
      },
      "source": [
        "print(table.shape)"
      ],
      "execution_count": 177,
      "outputs": [
        {
          "output_type": "stream",
          "text": [
            "(847, 4)\n"
          ],
          "name": "stdout"
        }
      ]
    },
    {
      "cell_type": "code",
      "metadata": {
        "id": "LRLAc86o2i_3",
        "colab_type": "code",
        "colab": {
          "base_uri": "https://localhost:8080/",
          "height": 204
        },
        "outputId": "33e0dee6-9ebb-4fde-fe5d-078dce063f02"
      },
      "source": [
        "table.head()"
      ],
      "execution_count": 178,
      "outputs": [
        {
          "output_type": "execute_result",
          "data": {
            "text/html": [
              "<div>\n",
              "<style scoped>\n",
              "    .dataframe tbody tr th:only-of-type {\n",
              "        vertical-align: middle;\n",
              "    }\n",
              "\n",
              "    .dataframe tbody tr th {\n",
              "        vertical-align: top;\n",
              "    }\n",
              "\n",
              "    .dataframe thead th {\n",
              "        text-align: right;\n",
              "    }\n",
              "</style>\n",
              "<table border=\"1\" class=\"dataframe\">\n",
              "  <thead>\n",
              "    <tr style=\"text-align: right;\">\n",
              "      <th></th>\n",
              "      <th>INSTITUTE_NAME</th>\n",
              "      <th>DEPARTMENT</th>\n",
              "      <th>RANK_PREDICTOR</th>\n",
              "      <th>CATEGORY</th>\n",
              "    </tr>\n",
              "  </thead>\n",
              "  <tbody>\n",
              "    <tr>\n",
              "      <th>0</th>\n",
              "      <td>IIT Bombay</td>\n",
              "      <td>Aerospace Engineering</td>\n",
              "      <td>405</td>\n",
              "      <td>GENERAL</td>\n",
              "    </tr>\n",
              "    <tr>\n",
              "      <th>1</th>\n",
              "      <td>IIT Bombay</td>\n",
              "      <td>Chemical Engineering</td>\n",
              "      <td>727</td>\n",
              "      <td>GENERAL</td>\n",
              "    </tr>\n",
              "    <tr>\n",
              "      <th>2</th>\n",
              "      <td>IIT Bombay</td>\n",
              "      <td>Civil Engineering</td>\n",
              "      <td>400</td>\n",
              "      <td>GENERAL</td>\n",
              "    </tr>\n",
              "    <tr>\n",
              "      <th>3</th>\n",
              "      <td>IIT Bombay</td>\n",
              "      <td>Computer Engineering</td>\n",
              "      <td>1</td>\n",
              "      <td>GENERAL</td>\n",
              "    </tr>\n",
              "    <tr>\n",
              "      <th>4</th>\n",
              "      <td>IIT Bombay</td>\n",
              "      <td>Electrical Engineering</td>\n",
              "      <td>7</td>\n",
              "      <td>GENERAL</td>\n",
              "    </tr>\n",
              "  </tbody>\n",
              "</table>\n",
              "</div>"
            ],
            "text/plain": [
              "  INSTITUTE_NAME              DEPARTMENT  RANK_PREDICTOR CATEGORY\n",
              "0     IIT Bombay   Aerospace Engineering             405  GENERAL\n",
              "1     IIT Bombay    Chemical Engineering             727  GENERAL\n",
              "2     IIT Bombay       Civil Engineering             400  GENERAL\n",
              "3     IIT Bombay    Computer Engineering               1  GENERAL\n",
              "4     IIT Bombay  Electrical Engineering               7  GENERAL"
            ]
          },
          "metadata": {
            "tags": []
          },
          "execution_count": 178
        }
      ]
    },
    {
      "cell_type": "code",
      "metadata": {
        "id": "mMcmZspW2i9m",
        "colab_type": "code",
        "colab": {}
      },
      "source": [
        "fin = table.sort_values(\"RANK_PREDICTOR\")\n",
        "fin.reset_index(inplace=True)\n",
        "fin.drop('index' , axis = 1 ,inplace=True)"
      ],
      "execution_count": 0,
      "outputs": []
    },
    {
      "cell_type": "code",
      "metadata": {
        "id": "UmoIUX2D2i7E",
        "colab_type": "code",
        "colab": {
          "base_uri": "https://localhost:8080/",
          "height": 34
        },
        "outputId": "7b478c8b-cb78-41b1-fcf1-1447c6bbb331"
      },
      "source": [
        "print(fin.shape)\n",
        "fin.to_csv('Open.csv' , index = False)"
      ],
      "execution_count": 180,
      "outputs": [
        {
          "output_type": "stream",
          "text": [
            "(847, 4)\n"
          ],
          "name": "stdout"
        }
      ]
    },
    {
      "cell_type": "code",
      "metadata": {
        "id": "no_d2W8X6iP_",
        "colab_type": "code",
        "colab": {
          "base_uri": "https://localhost:8080/",
          "height": 359
        },
        "outputId": "cf54f19c-19e9-4cca-fba0-696df1eea278"
      },
      "source": [
        "fin[20:30]"
      ],
      "execution_count": 186,
      "outputs": [
        {
          "output_type": "execute_result",
          "data": {
            "text/html": [
              "<div>\n",
              "<style scoped>\n",
              "    .dataframe tbody tr th:only-of-type {\n",
              "        vertical-align: middle;\n",
              "    }\n",
              "\n",
              "    .dataframe tbody tr th {\n",
              "        vertical-align: top;\n",
              "    }\n",
              "\n",
              "    .dataframe thead th {\n",
              "        text-align: right;\n",
              "    }\n",
              "</style>\n",
              "<table border=\"1\" class=\"dataframe\">\n",
              "  <thead>\n",
              "    <tr style=\"text-align: right;\">\n",
              "      <th></th>\n",
              "      <th>INSTITUTE_NAME</th>\n",
              "      <th>DEPARTMENT</th>\n",
              "      <th>RANK_PREDICTOR</th>\n",
              "      <th>CATEGORY</th>\n",
              "    </tr>\n",
              "  </thead>\n",
              "  <tbody>\n",
              "    <tr>\n",
              "      <th>20</th>\n",
              "      <td>IIT Delhi</td>\n",
              "      <td>Computer Engineering</td>\n",
              "      <td>4</td>\n",
              "      <td>GENERAL</td>\n",
              "    </tr>\n",
              "    <tr>\n",
              "      <th>21</th>\n",
              "      <td>IIT Delhi</td>\n",
              "      <td>Computer Engineering</td>\n",
              "      <td>5</td>\n",
              "      <td>ST</td>\n",
              "    </tr>\n",
              "    <tr>\n",
              "      <th>22</th>\n",
              "      <td>IIT Bombay</td>\n",
              "      <td>Electrical Engineering</td>\n",
              "      <td>7</td>\n",
              "      <td>GENERAL</td>\n",
              "    </tr>\n",
              "    <tr>\n",
              "      <th>23</th>\n",
              "      <td>IIT Delhi</td>\n",
              "      <td>Mechanical Engineering</td>\n",
              "      <td>8</td>\n",
              "      <td>ST</td>\n",
              "    </tr>\n",
              "    <tr>\n",
              "      <th>24</th>\n",
              "      <td>IIT Bombay</td>\n",
              "      <td>Computer Engineering</td>\n",
              "      <td>8</td>\n",
              "      <td>OBC</td>\n",
              "    </tr>\n",
              "    <tr>\n",
              "      <th>25</th>\n",
              "      <td>IIT Madras</td>\n",
              "      <td>Electrical Engineering</td>\n",
              "      <td>9</td>\n",
              "      <td>ST</td>\n",
              "    </tr>\n",
              "    <tr>\n",
              "      <th>26</th>\n",
              "      <td>IIT Delhi</td>\n",
              "      <td>Electrical Engineering</td>\n",
              "      <td>10</td>\n",
              "      <td>ST</td>\n",
              "    </tr>\n",
              "    <tr>\n",
              "      <th>27</th>\n",
              "      <td>IIT Delhi</td>\n",
              "      <td>Computer Engineering</td>\n",
              "      <td>10</td>\n",
              "      <td>SC</td>\n",
              "    </tr>\n",
              "    <tr>\n",
              "      <th>28</th>\n",
              "      <td>IIT Bombay</td>\n",
              "      <td>Electrical Engineering</td>\n",
              "      <td>12</td>\n",
              "      <td>SC</td>\n",
              "    </tr>\n",
              "    <tr>\n",
              "      <th>29</th>\n",
              "      <td>IIT Bombay</td>\n",
              "      <td>Engineering Physics</td>\n",
              "      <td>15</td>\n",
              "      <td>SC</td>\n",
              "    </tr>\n",
              "  </tbody>\n",
              "</table>\n",
              "</div>"
            ],
            "text/plain": [
              "   INSTITUTE_NAME              DEPARTMENT  RANK_PREDICTOR CATEGORY\n",
              "20      IIT Delhi    Computer Engineering               4  GENERAL\n",
              "21      IIT Delhi    Computer Engineering               5       ST\n",
              "22     IIT Bombay  Electrical Engineering               7  GENERAL\n",
              "23      IIT Delhi  Mechanical Engineering               8       ST\n",
              "24     IIT Bombay    Computer Engineering               8      OBC\n",
              "25     IIT Madras  Electrical Engineering               9       ST\n",
              "26      IIT Delhi  Electrical Engineering              10       ST\n",
              "27      IIT Delhi    Computer Engineering              10       SC\n",
              "28     IIT Bombay  Electrical Engineering              12       SC\n",
              "29     IIT Bombay     Engineering Physics              15       SC"
            ]
          },
          "metadata": {
            "tags": []
          },
          "execution_count": 186
        }
      ]
    },
    {
      "cell_type": "code",
      "metadata": {
        "id": "LD6U85xC49-F",
        "colab_type": "code",
        "colab": {
          "base_uri": "https://localhost:8080/",
          "height": 34
        },
        "outputId": "70fbceb1-b6ec-4e72-9580-26061eee333a"
      },
      "source": [
        "rank = int(input(\"Enter the Opening rank : \"))"
      ],
      "execution_count": 187,
      "outputs": [
        {
          "output_type": "stream",
          "text": [
            "Enter the Opening rank : 0\n"
          ],
          "name": "stdout"
        }
      ]
    },
    {
      "cell_type": "code",
      "metadata": {
        "id": "grjP0-Vh493s",
        "colab_type": "code",
        "colab": {
          "base_uri": "https://localhost:8080/",
          "height": 34
        },
        "outputId": "6443ffcd-e3c2-4b2b-e953-9c70984a86a8"
      },
      "source": [
        "cat = input(\"Enter the Category : \")"
      ],
      "execution_count": 181,
      "outputs": [
        {
          "output_type": "stream",
          "text": [
            "Enter the Category : ST\n"
          ],
          "name": "stdout"
        }
      ]
    },
    {
      "cell_type": "code",
      "metadata": {
        "id": "JsgsuQgi49zF",
        "colab_type": "code",
        "colab": {
          "base_uri": "https://localhost:8080/",
          "height": 548
        },
        "outputId": "657b6ffc-1681-4222-e017-8677dd00f8aa"
      },
      "source": [
        "print('NUmber of  the college with Departments based on rank : ' , end=' ')\n",
        "print(fin[(fin['RANK_PREDICTOR']==rank) & (fin['CATEGORY']==cat)].shape[0])\n",
        "\n",
        "print('Display all of  the college with Departments based on rank : ' , end=' ')\n",
        "DEP = fin[(fin['RANK_PREDICTOR']==rank) & (fin['CATEGORY']==cat)].iloc[: , :2]\n",
        "DEP "
      ],
      "execution_count": 182,
      "outputs": [
        {
          "output_type": "stream",
          "text": [
            "NUmber of  the college with Departments based on rank :  15\n",
            "Display all of  the college with Departments based on rank :  "
          ],
          "name": "stdout"
        },
        {
          "output_type": "execute_result",
          "data": {
            "text/html": [
              "<div>\n",
              "<style scoped>\n",
              "    .dataframe tbody tr th:only-of-type {\n",
              "        vertical-align: middle;\n",
              "    }\n",
              "\n",
              "    .dataframe tbody tr th {\n",
              "        vertical-align: top;\n",
              "    }\n",
              "\n",
              "    .dataframe thead th {\n",
              "        text-align: right;\n",
              "    }\n",
              "</style>\n",
              "<table border=\"1\" class=\"dataframe\">\n",
              "  <thead>\n",
              "    <tr style=\"text-align: right;\">\n",
              "      <th></th>\n",
              "      <th>INSTITUTE_NAME</th>\n",
              "      <th>DEPARTMENT</th>\n",
              "    </tr>\n",
              "  </thead>\n",
              "  <tbody>\n",
              "    <tr>\n",
              "      <th>0</th>\n",
              "      <td>ISM Dhanbad</td>\n",
              "      <td>Applied Geophysics</td>\n",
              "    </tr>\n",
              "    <tr>\n",
              "      <th>1</th>\n",
              "      <td>IIT Madras</td>\n",
              "      <td>Civil Engineering *</td>\n",
              "    </tr>\n",
              "    <tr>\n",
              "      <th>2</th>\n",
              "      <td>IIT Roorkee</td>\n",
              "      <td>Pulp &amp; Paper Engineering</td>\n",
              "    </tr>\n",
              "    <tr>\n",
              "      <th>3</th>\n",
              "      <td>IIT Roorkee</td>\n",
              "      <td>Architecture</td>\n",
              "    </tr>\n",
              "    <tr>\n",
              "      <th>4</th>\n",
              "      <td>IIT Roorkee</td>\n",
              "      <td>Geophysical Technology</td>\n",
              "    </tr>\n",
              "    <tr>\n",
              "      <th>5</th>\n",
              "      <td>IIT Kanpur</td>\n",
              "      <td>Chemistry</td>\n",
              "    </tr>\n",
              "    <tr>\n",
              "      <th>6</th>\n",
              "      <td>IIT Kharagpur</td>\n",
              "      <td>Exploration Geophysics</td>\n",
              "    </tr>\n",
              "    <tr>\n",
              "      <th>7</th>\n",
              "      <td>IIT Kharagpur</td>\n",
              "      <td>Economics</td>\n",
              "    </tr>\n",
              "    <tr>\n",
              "      <th>8</th>\n",
              "      <td>IIT Kharagpur</td>\n",
              "      <td>Applied Geology</td>\n",
              "    </tr>\n",
              "    <tr>\n",
              "      <th>9</th>\n",
              "      <td>IIT Madras</td>\n",
              "      <td>Electrical Engineering *</td>\n",
              "    </tr>\n",
              "    <tr>\n",
              "      <th>10</th>\n",
              "      <td>IIT (BHU) Varanasi</td>\n",
              "      <td>Industrial Chemistry</td>\n",
              "    </tr>\n",
              "    <tr>\n",
              "      <th>11</th>\n",
              "      <td>IIT (BHU) Varanasi</td>\n",
              "      <td>Pharmaceutics</td>\n",
              "    </tr>\n",
              "    <tr>\n",
              "      <th>12</th>\n",
              "      <td>IIT Madras</td>\n",
              "      <td>Naval Architecture &amp; Ocean Engineering</td>\n",
              "    </tr>\n",
              "    <tr>\n",
              "      <th>13</th>\n",
              "      <td>ISM Dhanbad</td>\n",
              "      <td>Mathematics &amp; Computing</td>\n",
              "    </tr>\n",
              "    <tr>\n",
              "      <th>14</th>\n",
              "      <td>ISM Dhanbad</td>\n",
              "      <td>Applied Geology</td>\n",
              "    </tr>\n",
              "  </tbody>\n",
              "</table>\n",
              "</div>"
            ],
            "text/plain": [
              "        INSTITUTE_NAME                              DEPARTMENT\n",
              "0          ISM Dhanbad                      Applied Geophysics\n",
              "1           IIT Madras                     Civil Engineering *\n",
              "2          IIT Roorkee                Pulp & Paper Engineering\n",
              "3          IIT Roorkee                            Architecture\n",
              "4          IIT Roorkee                  Geophysical Technology\n",
              "5           IIT Kanpur                               Chemistry\n",
              "6        IIT Kharagpur                  Exploration Geophysics\n",
              "7        IIT Kharagpur                               Economics\n",
              "8        IIT Kharagpur                         Applied Geology\n",
              "9           IIT Madras                Electrical Engineering *\n",
              "10  IIT (BHU) Varanasi                    Industrial Chemistry\n",
              "11  IIT (BHU) Varanasi                           Pharmaceutics\n",
              "12          IIT Madras  Naval Architecture & Ocean Engineering\n",
              "13         ISM Dhanbad                 Mathematics & Computing\n",
              "14         ISM Dhanbad                         Applied Geology"
            ]
          },
          "metadata": {
            "tags": []
          },
          "execution_count": 182
        }
      ]
    },
    {
      "cell_type": "markdown",
      "metadata": {
        "id": "vITCsNAq5jxj",
        "colab_type": "text"
      },
      "source": [
        "#EXAMPLE -1: Department Wise"
      ]
    },
    {
      "cell_type": "code",
      "metadata": {
        "id": "2KQAWvnB49um",
        "colab_type": "code",
        "colab": {
          "base_uri": "https://localhost:8080/",
          "height": 517
        },
        "outputId": "143766ac-2d44-4845-bf52-f8ef41b577a2"
      },
      "source": [
        "order = input(\"Enter the order : \")\n",
        "output = DEP.groupby(order).sum()\n",
        "output.reset_index(inplace =True)\n",
        "print(output.shape)\n",
        "output"
      ],
      "execution_count": 183,
      "outputs": [
        {
          "output_type": "stream",
          "text": [
            "Enter the order : DEPARTMENT\n",
            "(14, 2)\n"
          ],
          "name": "stdout"
        },
        {
          "output_type": "execute_result",
          "data": {
            "text/html": [
              "<div>\n",
              "<style scoped>\n",
              "    .dataframe tbody tr th:only-of-type {\n",
              "        vertical-align: middle;\n",
              "    }\n",
              "\n",
              "    .dataframe tbody tr th {\n",
              "        vertical-align: top;\n",
              "    }\n",
              "\n",
              "    .dataframe thead th {\n",
              "        text-align: right;\n",
              "    }\n",
              "</style>\n",
              "<table border=\"1\" class=\"dataframe\">\n",
              "  <thead>\n",
              "    <tr style=\"text-align: right;\">\n",
              "      <th></th>\n",
              "      <th>DEPARTMENT</th>\n",
              "      <th>INSTITUTE_NAME</th>\n",
              "    </tr>\n",
              "  </thead>\n",
              "  <tbody>\n",
              "    <tr>\n",
              "      <th>0</th>\n",
              "      <td>Applied Geology</td>\n",
              "      <td>IIT KharagpurISM Dhanbad</td>\n",
              "    </tr>\n",
              "    <tr>\n",
              "      <th>1</th>\n",
              "      <td>Applied Geophysics</td>\n",
              "      <td>ISM Dhanbad</td>\n",
              "    </tr>\n",
              "    <tr>\n",
              "      <th>2</th>\n",
              "      <td>Architecture</td>\n",
              "      <td>IIT Roorkee</td>\n",
              "    </tr>\n",
              "    <tr>\n",
              "      <th>3</th>\n",
              "      <td>Chemistry</td>\n",
              "      <td>IIT Kanpur</td>\n",
              "    </tr>\n",
              "    <tr>\n",
              "      <th>4</th>\n",
              "      <td>Civil Engineering *</td>\n",
              "      <td>IIT Madras</td>\n",
              "    </tr>\n",
              "    <tr>\n",
              "      <th>5</th>\n",
              "      <td>Economics</td>\n",
              "      <td>IIT Kharagpur</td>\n",
              "    </tr>\n",
              "    <tr>\n",
              "      <th>6</th>\n",
              "      <td>Electrical Engineering *</td>\n",
              "      <td>IIT Madras</td>\n",
              "    </tr>\n",
              "    <tr>\n",
              "      <th>7</th>\n",
              "      <td>Exploration Geophysics</td>\n",
              "      <td>IIT Kharagpur</td>\n",
              "    </tr>\n",
              "    <tr>\n",
              "      <th>8</th>\n",
              "      <td>Geophysical Technology</td>\n",
              "      <td>IIT Roorkee</td>\n",
              "    </tr>\n",
              "    <tr>\n",
              "      <th>9</th>\n",
              "      <td>Industrial Chemistry</td>\n",
              "      <td>IIT (BHU) Varanasi</td>\n",
              "    </tr>\n",
              "    <tr>\n",
              "      <th>10</th>\n",
              "      <td>Mathematics &amp; Computing</td>\n",
              "      <td>ISM Dhanbad</td>\n",
              "    </tr>\n",
              "    <tr>\n",
              "      <th>11</th>\n",
              "      <td>Naval Architecture &amp; Ocean Engineering</td>\n",
              "      <td>IIT Madras</td>\n",
              "    </tr>\n",
              "    <tr>\n",
              "      <th>12</th>\n",
              "      <td>Pharmaceutics</td>\n",
              "      <td>IIT (BHU) Varanasi</td>\n",
              "    </tr>\n",
              "    <tr>\n",
              "      <th>13</th>\n",
              "      <td>Pulp &amp; Paper Engineering</td>\n",
              "      <td>IIT Roorkee</td>\n",
              "    </tr>\n",
              "  </tbody>\n",
              "</table>\n",
              "</div>"
            ],
            "text/plain": [
              "                                DEPARTMENT            INSTITUTE_NAME\n",
              "0                          Applied Geology  IIT KharagpurISM Dhanbad\n",
              "1                       Applied Geophysics               ISM Dhanbad\n",
              "2                             Architecture               IIT Roorkee\n",
              "3                                Chemistry                IIT Kanpur\n",
              "4                      Civil Engineering *                IIT Madras\n",
              "5                                Economics             IIT Kharagpur\n",
              "6                 Electrical Engineering *                IIT Madras\n",
              "7                   Exploration Geophysics             IIT Kharagpur\n",
              "8                   Geophysical Technology               IIT Roorkee\n",
              "9                     Industrial Chemistry        IIT (BHU) Varanasi\n",
              "10                 Mathematics & Computing               ISM Dhanbad\n",
              "11  Naval Architecture & Ocean Engineering                IIT Madras\n",
              "12                           Pharmaceutics        IIT (BHU) Varanasi\n",
              "13                Pulp & Paper Engineering               IIT Roorkee"
            ]
          },
          "metadata": {
            "tags": []
          },
          "execution_count": 183
        }
      ]
    },
    {
      "cell_type": "markdown",
      "metadata": {
        "id": "_i3lLbo95eQr",
        "colab_type": "text"
      },
      "source": [
        "# EXAMPLE : 2- Institute Wise "
      ]
    },
    {
      "cell_type": "code",
      "metadata": {
        "id": "24_cGKxg5aXZ",
        "colab_type": "code",
        "colab": {
          "base_uri": "https://localhost:8080/",
          "height": 269
        },
        "outputId": "e1e7d826-fa40-46a3-f047-7d870a983001"
      },
      "source": [
        "order = input(\"Enter the order : \")\n",
        "output = DEP.groupby(order).sum()\n",
        "output.reset_index(inplace =True)\n",
        "print(output.shape)\n",
        "output"
      ],
      "execution_count": 184,
      "outputs": [
        {
          "output_type": "stream",
          "text": [
            "Enter the order : INSTITUTE_NAME\n",
            "(6, 2)\n"
          ],
          "name": "stdout"
        },
        {
          "output_type": "execute_result",
          "data": {
            "text/html": [
              "<div>\n",
              "<style scoped>\n",
              "    .dataframe tbody tr th:only-of-type {\n",
              "        vertical-align: middle;\n",
              "    }\n",
              "\n",
              "    .dataframe tbody tr th {\n",
              "        vertical-align: top;\n",
              "    }\n",
              "\n",
              "    .dataframe thead th {\n",
              "        text-align: right;\n",
              "    }\n",
              "</style>\n",
              "<table border=\"1\" class=\"dataframe\">\n",
              "  <thead>\n",
              "    <tr style=\"text-align: right;\">\n",
              "      <th></th>\n",
              "      <th>INSTITUTE_NAME</th>\n",
              "      <th>DEPARTMENT</th>\n",
              "    </tr>\n",
              "  </thead>\n",
              "  <tbody>\n",
              "    <tr>\n",
              "      <th>0</th>\n",
              "      <td>IIT (BHU) Varanasi</td>\n",
              "      <td>Industrial ChemistryPharmaceutics</td>\n",
              "    </tr>\n",
              "    <tr>\n",
              "      <th>1</th>\n",
              "      <td>IIT Kanpur</td>\n",
              "      <td>Chemistry</td>\n",
              "    </tr>\n",
              "    <tr>\n",
              "      <th>2</th>\n",
              "      <td>IIT Kharagpur</td>\n",
              "      <td>Exploration GeophysicsEconomicsApplied Geology</td>\n",
              "    </tr>\n",
              "    <tr>\n",
              "      <th>3</th>\n",
              "      <td>IIT Madras</td>\n",
              "      <td>Civil Engineering *Electrical Engineering *Nav...</td>\n",
              "    </tr>\n",
              "    <tr>\n",
              "      <th>4</th>\n",
              "      <td>IIT Roorkee</td>\n",
              "      <td>Pulp &amp; Paper EngineeringArchitectureGeophysica...</td>\n",
              "    </tr>\n",
              "    <tr>\n",
              "      <th>5</th>\n",
              "      <td>ISM Dhanbad</td>\n",
              "      <td>Applied GeophysicsMathematics &amp; ComputingAppli...</td>\n",
              "    </tr>\n",
              "  </tbody>\n",
              "</table>\n",
              "</div>"
            ],
            "text/plain": [
              "       INSTITUTE_NAME                                         DEPARTMENT\n",
              "0  IIT (BHU) Varanasi                  Industrial ChemistryPharmaceutics\n",
              "1          IIT Kanpur                                          Chemistry\n",
              "2       IIT Kharagpur     Exploration GeophysicsEconomicsApplied Geology\n",
              "3          IIT Madras  Civil Engineering *Electrical Engineering *Nav...\n",
              "4         IIT Roorkee  Pulp & Paper EngineeringArchitectureGeophysica...\n",
              "5         ISM Dhanbad  Applied GeophysicsMathematics & ComputingAppli..."
            ]
          },
          "metadata": {
            "tags": []
          },
          "execution_count": 184
        }
      ]
    },
    {
      "cell_type": "markdown",
      "metadata": {
        "id": "8FqjPpXR65lh",
        "colab_type": "text"
      },
      "source": [
        "\n",
        "Hurray !!! One Task is Complete\n",
        "---\n",
        "\n",
        "\n",
        "\n",
        "---\n",
        "\n"
      ]
    },
    {
      "cell_type": "code",
      "metadata": {
        "id": "nwIv2RNH5aTa",
        "colab_type": "code",
        "colab": {}
      },
      "source": [
        ""
      ],
      "execution_count": 0,
      "outputs": []
    },
    {
      "cell_type": "code",
      "metadata": {
        "id": "yekDYTUP5aNq",
        "colab_type": "code",
        "colab": {}
      },
      "source": [
        ""
      ],
      "execution_count": 0,
      "outputs": []
    },
    {
      "cell_type": "markdown",
      "metadata": {
        "id": "s64_LjcbuNDY",
        "colab_type": "text"
      },
      "source": [
        "#2.) Based on Closing Rank ✔✌"
      ]
    },
    {
      "cell_type": "code",
      "metadata": {
        "id": "mJQ_Fagg2i48",
        "colab_type": "code",
        "colab": {
          "base_uri": "https://localhost:8080/",
          "height": 272
        },
        "outputId": "23cff3a9-6ae2-4db3-9fb8-9372ff8aba93"
      },
      "source": [
        "df2 = df.copy()\n",
        "df2.rename(columns = {\"BRANCH_NAME\":\"DEPARTMENT\" , \"College_Name\":\"INSTITUTE_NAME\"} ,inplace=True)\n",
        "df2.info()"
      ],
      "execution_count": 118,
      "outputs": [
        {
          "output_type": "stream",
          "text": [
            "<class 'pandas.core.frame.DataFrame'>\n",
            "RangeIndex: 212 entries, 0 to 211\n",
            "Data columns (total 10 columns):\n",
            "INSTITUTE_NAME    212 non-null object\n",
            "DEPARTMENT        212 non-null object\n",
            "GENERAL_OPEN      212 non-null int64\n",
            "GENERAL_CLOSE     212 non-null int64\n",
            "OBC_OPEN          212 non-null int64\n",
            "OBC_CLOSE         212 non-null int64\n",
            "SC_OPEN           212 non-null int64\n",
            "SC_CLOSE          212 non-null int64\n",
            "ST_OPEN           212 non-null int64\n",
            "ST_CLOSE          212 non-null int64\n",
            "dtypes: int64(8), object(2)\n",
            "memory usage: 16.6+ KB\n"
          ],
          "name": "stdout"
        }
      ]
    },
    {
      "cell_type": "code",
      "metadata": {
        "id": "mY7S__mW2i2W",
        "colab_type": "code",
        "colab": {}
      },
      "source": [
        "df2.drop(['GENERAL_OPEN' ,'OBC_OPEN' , 'SC_OPEN' ,  'ST_OPEN'] , axis=1 , inplace= True)"
      ],
      "execution_count": 0,
      "outputs": []
    },
    {
      "cell_type": "code",
      "metadata": {
        "id": "_NaqYzCrvOV6",
        "colab_type": "code",
        "colab": {
          "base_uri": "https://localhost:8080/",
          "height": 204
        },
        "outputId": "df523212-4231-4497-eacb-de34a16d5fed"
      },
      "source": [
        "df2.head()"
      ],
      "execution_count": 120,
      "outputs": [
        {
          "output_type": "execute_result",
          "data": {
            "text/html": [
              "<div>\n",
              "<style scoped>\n",
              "    .dataframe tbody tr th:only-of-type {\n",
              "        vertical-align: middle;\n",
              "    }\n",
              "\n",
              "    .dataframe tbody tr th {\n",
              "        vertical-align: top;\n",
              "    }\n",
              "\n",
              "    .dataframe thead th {\n",
              "        text-align: right;\n",
              "    }\n",
              "</style>\n",
              "<table border=\"1\" class=\"dataframe\">\n",
              "  <thead>\n",
              "    <tr style=\"text-align: right;\">\n",
              "      <th></th>\n",
              "      <th>INSTITUTE_NAME</th>\n",
              "      <th>DEPARTMENT</th>\n",
              "      <th>GENERAL_CLOSE</th>\n",
              "      <th>OBC_CLOSE</th>\n",
              "      <th>SC_CLOSE</th>\n",
              "      <th>ST_CLOSE</th>\n",
              "    </tr>\n",
              "  </thead>\n",
              "  <tbody>\n",
              "    <tr>\n",
              "      <th>0</th>\n",
              "      <td>IIT Bombay</td>\n",
              "      <td>Aerospace Engineering</td>\n",
              "      <td>1674</td>\n",
              "      <td>811</td>\n",
              "      <td>334</td>\n",
              "      <td>266</td>\n",
              "    </tr>\n",
              "    <tr>\n",
              "      <th>1</th>\n",
              "      <td>IIT Bombay</td>\n",
              "      <td>Chemical Engineering</td>\n",
              "      <td>1240</td>\n",
              "      <td>845</td>\n",
              "      <td>544</td>\n",
              "      <td>315</td>\n",
              "    </tr>\n",
              "    <tr>\n",
              "      <th>2</th>\n",
              "      <td>IIT Bombay</td>\n",
              "      <td>Civil Engineering</td>\n",
              "      <td>1688</td>\n",
              "      <td>873</td>\n",
              "      <td>372</td>\n",
              "      <td>96</td>\n",
              "    </tr>\n",
              "    <tr>\n",
              "      <th>3</th>\n",
              "      <td>IIT Bombay</td>\n",
              "      <td>Computer Engineering</td>\n",
              "      <td>59</td>\n",
              "      <td>38</td>\n",
              "      <td>19</td>\n",
              "      <td>21</td>\n",
              "    </tr>\n",
              "    <tr>\n",
              "      <th>4</th>\n",
              "      <td>IIT Bombay</td>\n",
              "      <td>Electrical Engineering</td>\n",
              "      <td>135</td>\n",
              "      <td>80</td>\n",
              "      <td>64</td>\n",
              "      <td>18</td>\n",
              "    </tr>\n",
              "  </tbody>\n",
              "</table>\n",
              "</div>"
            ],
            "text/plain": [
              "  INSTITUTE_NAME              DEPARTMENT  ...  SC_CLOSE  ST_CLOSE\n",
              "0     IIT Bombay   Aerospace Engineering  ...       334       266\n",
              "1     IIT Bombay    Chemical Engineering  ...       544       315\n",
              "2     IIT Bombay       Civil Engineering  ...       372        96\n",
              "3     IIT Bombay    Computer Engineering  ...        19        21\n",
              "4     IIT Bombay  Electrical Engineering  ...        64        18\n",
              "\n",
              "[5 rows x 6 columns]"
            ]
          },
          "metadata": {
            "tags": []
          },
          "execution_count": 120
        }
      ]
    },
    {
      "cell_type": "code",
      "metadata": {
        "id": "Lt6OxmnG2izx",
        "colab_type": "code",
        "colab": {}
      },
      "source": [
        "#For General\n",
        "dfa = df2.iloc[: , :3]\n",
        "cat1 = []\n",
        "for i in range(len(dfa)):\n",
        "  cat1.append('GENERAL')\n",
        "dfa['CATEGORY'] =cat1\n",
        "dfa.rename(columns = {\"GENERAL_CLOSE\":\"RANK_PREDICTOR\"} , inplace=True)\n",
        "\n",
        "#For OBC\n",
        "dfb = df2.iloc[: , [0,1,3]]\n",
        "cat2 = []\n",
        "for i in range(len(dfb)):\n",
        "  cat2.append('OBC')\n",
        "dfb['CATEGORY'] =cat2\n",
        "dfb.rename(columns = {\"OBC_CLOSE\":\"RANK_PREDICTOR\"} , inplace=True)\n",
        "\n",
        "#For SC\n",
        "dfc = df2.iloc[: , [0,1,4]]\n",
        "cat3 = []\n",
        "for i in range(len(dfc)):\n",
        "  cat3.append('SC')\n",
        "dfc['CATEGORY'] =cat3\n",
        "dfc.rename(columns = {\"SC_CLOSE\":\"RANK_PREDICTOR\"} , inplace=True)\n",
        "\n",
        "#For ST\n",
        "dfd = df2.iloc[: , [0,1,5]]\n",
        "cat4 = []\n",
        "for i in range(len(dfd)):\n",
        "  cat4.append('ST')\n",
        "dfd['CATEGORY'] =cat4\n",
        "dfd.rename(columns = {\"ST_CLOSE\":\"RANK_PREDICTOR\"} , inplace=True)"
      ],
      "execution_count": 0,
      "outputs": []
    },
    {
      "cell_type": "code",
      "metadata": {
        "id": "KkuzkbuL2ixt",
        "colab_type": "code",
        "colab": {
          "base_uri": "https://localhost:8080/",
          "height": 34
        },
        "outputId": "b978bc01-ab20-40b4-94c8-364a98bc04e7"
      },
      "source": [
        "table = pd.concat([dfa ,dfb,dfc, dfd] , ignore_index =True)\n",
        "print(table.shape)"
      ],
      "execution_count": 122,
      "outputs": [
        {
          "output_type": "stream",
          "text": [
            "(848, 4)\n"
          ],
          "name": "stdout"
        }
      ]
    },
    {
      "cell_type": "code",
      "metadata": {
        "id": "wk_rT7q2vr_S",
        "colab_type": "code",
        "colab": {
          "base_uri": "https://localhost:8080/",
          "height": 204
        },
        "outputId": "52310c5b-a80b-42da-b5df-a8fa2f3365ce"
      },
      "source": [
        "table.head()"
      ],
      "execution_count": 124,
      "outputs": [
        {
          "output_type": "execute_result",
          "data": {
            "text/html": [
              "<div>\n",
              "<style scoped>\n",
              "    .dataframe tbody tr th:only-of-type {\n",
              "        vertical-align: middle;\n",
              "    }\n",
              "\n",
              "    .dataframe tbody tr th {\n",
              "        vertical-align: top;\n",
              "    }\n",
              "\n",
              "    .dataframe thead th {\n",
              "        text-align: right;\n",
              "    }\n",
              "</style>\n",
              "<table border=\"1\" class=\"dataframe\">\n",
              "  <thead>\n",
              "    <tr style=\"text-align: right;\">\n",
              "      <th></th>\n",
              "      <th>INSTITUTE_NAME</th>\n",
              "      <th>DEPARTMENT</th>\n",
              "      <th>RANK_PREDICTOR</th>\n",
              "      <th>CATEGORY</th>\n",
              "    </tr>\n",
              "  </thead>\n",
              "  <tbody>\n",
              "    <tr>\n",
              "      <th>0</th>\n",
              "      <td>IIT Bombay</td>\n",
              "      <td>Aerospace Engineering</td>\n",
              "      <td>1674</td>\n",
              "      <td>GENERAL</td>\n",
              "    </tr>\n",
              "    <tr>\n",
              "      <th>1</th>\n",
              "      <td>IIT Bombay</td>\n",
              "      <td>Chemical Engineering</td>\n",
              "      <td>1240</td>\n",
              "      <td>GENERAL</td>\n",
              "    </tr>\n",
              "    <tr>\n",
              "      <th>2</th>\n",
              "      <td>IIT Bombay</td>\n",
              "      <td>Civil Engineering</td>\n",
              "      <td>1688</td>\n",
              "      <td>GENERAL</td>\n",
              "    </tr>\n",
              "    <tr>\n",
              "      <th>3</th>\n",
              "      <td>IIT Bombay</td>\n",
              "      <td>Computer Engineering</td>\n",
              "      <td>59</td>\n",
              "      <td>GENERAL</td>\n",
              "    </tr>\n",
              "    <tr>\n",
              "      <th>4</th>\n",
              "      <td>IIT Bombay</td>\n",
              "      <td>Electrical Engineering</td>\n",
              "      <td>135</td>\n",
              "      <td>GENERAL</td>\n",
              "    </tr>\n",
              "  </tbody>\n",
              "</table>\n",
              "</div>"
            ],
            "text/plain": [
              "  INSTITUTE_NAME              DEPARTMENT  RANK_PREDICTOR CATEGORY\n",
              "0     IIT Bombay   Aerospace Engineering            1674  GENERAL\n",
              "1     IIT Bombay    Chemical Engineering            1240  GENERAL\n",
              "2     IIT Bombay       Civil Engineering            1688  GENERAL\n",
              "3     IIT Bombay    Computer Engineering              59  GENERAL\n",
              "4     IIT Bombay  Electrical Engineering             135  GENERAL"
            ]
          },
          "metadata": {
            "tags": []
          },
          "execution_count": 124
        }
      ]
    },
    {
      "cell_type": "code",
      "metadata": {
        "id": "t6mVhQHS2ivf",
        "colab_type": "code",
        "colab": {
          "base_uri": "https://localhost:8080/",
          "height": 111
        },
        "outputId": "3243770b-0576-418b-a5c1-c14534da99f8"
      },
      "source": [
        "table[table.duplicated(keep=False)]"
      ],
      "execution_count": 123,
      "outputs": [
        {
          "output_type": "execute_result",
          "data": {
            "text/html": [
              "<div>\n",
              "<style scoped>\n",
              "    .dataframe tbody tr th:only-of-type {\n",
              "        vertical-align: middle;\n",
              "    }\n",
              "\n",
              "    .dataframe tbody tr th {\n",
              "        vertical-align: top;\n",
              "    }\n",
              "\n",
              "    .dataframe thead th {\n",
              "        text-align: right;\n",
              "    }\n",
              "</style>\n",
              "<table border=\"1\" class=\"dataframe\">\n",
              "  <thead>\n",
              "    <tr style=\"text-align: right;\">\n",
              "      <th></th>\n",
              "      <th>INSTITUTE_NAME</th>\n",
              "      <th>DEPARTMENT</th>\n",
              "      <th>RANK_PREDICTOR</th>\n",
              "      <th>CATEGORY</th>\n",
              "    </tr>\n",
              "  </thead>\n",
              "  <tbody>\n",
              "    <tr>\n",
              "      <th>813</th>\n",
              "      <td>IIT (BHU) Varanasi</td>\n",
              "      <td>Pharmaceutics</td>\n",
              "      <td>0</td>\n",
              "      <td>ST</td>\n",
              "    </tr>\n",
              "    <tr>\n",
              "      <th>827</th>\n",
              "      <td>IIT (BHU) Varanasi</td>\n",
              "      <td>Pharmaceutics</td>\n",
              "      <td>0</td>\n",
              "      <td>ST</td>\n",
              "    </tr>\n",
              "  </tbody>\n",
              "</table>\n",
              "</div>"
            ],
            "text/plain": [
              "         INSTITUTE_NAME     DEPARTMENT  RANK_PREDICTOR CATEGORY\n",
              "813  IIT (BHU) Varanasi  Pharmaceutics               0       ST\n",
              "827  IIT (BHU) Varanasi  Pharmaceutics               0       ST"
            ]
          },
          "metadata": {
            "tags": []
          },
          "execution_count": 123
        }
      ]
    },
    {
      "cell_type": "code",
      "metadata": {
        "id": "_kWpCBoNv62c",
        "colab_type": "code",
        "colab": {
          "base_uri": "https://localhost:8080/",
          "height": 221
        },
        "outputId": "9ed4acd1-04e5-4d2a-9166-17a899bd1991"
      },
      "source": [
        "table.drop(813 , axis =0 , inplace =True)\n",
        "print(table.shape)\n",
        "table.head()"
      ],
      "execution_count": 125,
      "outputs": [
        {
          "output_type": "stream",
          "text": [
            "(847, 4)\n"
          ],
          "name": "stdout"
        },
        {
          "output_type": "execute_result",
          "data": {
            "text/html": [
              "<div>\n",
              "<style scoped>\n",
              "    .dataframe tbody tr th:only-of-type {\n",
              "        vertical-align: middle;\n",
              "    }\n",
              "\n",
              "    .dataframe tbody tr th {\n",
              "        vertical-align: top;\n",
              "    }\n",
              "\n",
              "    .dataframe thead th {\n",
              "        text-align: right;\n",
              "    }\n",
              "</style>\n",
              "<table border=\"1\" class=\"dataframe\">\n",
              "  <thead>\n",
              "    <tr style=\"text-align: right;\">\n",
              "      <th></th>\n",
              "      <th>INSTITUTE_NAME</th>\n",
              "      <th>DEPARTMENT</th>\n",
              "      <th>RANK_PREDICTOR</th>\n",
              "      <th>CATEGORY</th>\n",
              "    </tr>\n",
              "  </thead>\n",
              "  <tbody>\n",
              "    <tr>\n",
              "      <th>0</th>\n",
              "      <td>IIT Bombay</td>\n",
              "      <td>Aerospace Engineering</td>\n",
              "      <td>1674</td>\n",
              "      <td>GENERAL</td>\n",
              "    </tr>\n",
              "    <tr>\n",
              "      <th>1</th>\n",
              "      <td>IIT Bombay</td>\n",
              "      <td>Chemical Engineering</td>\n",
              "      <td>1240</td>\n",
              "      <td>GENERAL</td>\n",
              "    </tr>\n",
              "    <tr>\n",
              "      <th>2</th>\n",
              "      <td>IIT Bombay</td>\n",
              "      <td>Civil Engineering</td>\n",
              "      <td>1688</td>\n",
              "      <td>GENERAL</td>\n",
              "    </tr>\n",
              "    <tr>\n",
              "      <th>3</th>\n",
              "      <td>IIT Bombay</td>\n",
              "      <td>Computer Engineering</td>\n",
              "      <td>59</td>\n",
              "      <td>GENERAL</td>\n",
              "    </tr>\n",
              "    <tr>\n",
              "      <th>4</th>\n",
              "      <td>IIT Bombay</td>\n",
              "      <td>Electrical Engineering</td>\n",
              "      <td>135</td>\n",
              "      <td>GENERAL</td>\n",
              "    </tr>\n",
              "  </tbody>\n",
              "</table>\n",
              "</div>"
            ],
            "text/plain": [
              "  INSTITUTE_NAME              DEPARTMENT  RANK_PREDICTOR CATEGORY\n",
              "0     IIT Bombay   Aerospace Engineering            1674  GENERAL\n",
              "1     IIT Bombay    Chemical Engineering            1240  GENERAL\n",
              "2     IIT Bombay       Civil Engineering            1688  GENERAL\n",
              "3     IIT Bombay    Computer Engineering              59  GENERAL\n",
              "4     IIT Bombay  Electrical Engineering             135  GENERAL"
            ]
          },
          "metadata": {
            "tags": []
          },
          "execution_count": 125
        }
      ]
    },
    {
      "cell_type": "code",
      "metadata": {
        "id": "CXxh9PEtwA48",
        "colab_type": "code",
        "colab": {}
      },
      "source": [
        "table.reset_index(inplace=True)\n",
        "table.drop('index' , axis = 1 ,inplace=True)"
      ],
      "execution_count": 0,
      "outputs": []
    },
    {
      "cell_type": "code",
      "metadata": {
        "id": "_j_DpyDfr8NM",
        "colab_type": "code",
        "colab": {
          "base_uri": "https://localhost:8080/",
          "height": 34
        },
        "outputId": "78910445-82db-4c64-d5bc-c156f025d93d"
      },
      "source": [
        "fin = table.sort_values(\"RANK_PREDICTOR\")\n",
        "fin.reset_index(inplace=True)\n",
        "fin.drop('index' , axis = 1 ,inplace=True)\n",
        "print(fin.shape)"
      ],
      "execution_count": 127,
      "outputs": [
        {
          "output_type": "stream",
          "text": [
            "(847, 4)\n"
          ],
          "name": "stdout"
        }
      ]
    },
    {
      "cell_type": "code",
      "metadata": {
        "id": "jpgB9_vQr8Jo",
        "colab_type": "code",
        "colab": {
          "base_uri": "https://localhost:8080/",
          "height": 359
        },
        "outputId": "6a49d478-5dc2-47f8-f78e-9c7db3e5b975"
      },
      "source": [
        "fin[20:30]"
      ],
      "execution_count": 130,
      "outputs": [
        {
          "output_type": "execute_result",
          "data": {
            "text/html": [
              "<div>\n",
              "<style scoped>\n",
              "    .dataframe tbody tr th:only-of-type {\n",
              "        vertical-align: middle;\n",
              "    }\n",
              "\n",
              "    .dataframe tbody tr th {\n",
              "        vertical-align: top;\n",
              "    }\n",
              "\n",
              "    .dataframe thead th {\n",
              "        text-align: right;\n",
              "    }\n",
              "</style>\n",
              "<table border=\"1\" class=\"dataframe\">\n",
              "  <thead>\n",
              "    <tr style=\"text-align: right;\">\n",
              "      <th></th>\n",
              "      <th>INSTITUTE_NAME</th>\n",
              "      <th>DEPARTMENT</th>\n",
              "      <th>RANK_PREDICTOR</th>\n",
              "      <th>CATEGORY</th>\n",
              "    </tr>\n",
              "  </thead>\n",
              "  <tbody>\n",
              "    <tr>\n",
              "      <th>20</th>\n",
              "      <td>IIT Delhi</td>\n",
              "      <td>Computer Engineering</td>\n",
              "      <td>36</td>\n",
              "      <td>SC</td>\n",
              "    </tr>\n",
              "    <tr>\n",
              "      <th>21</th>\n",
              "      <td>IIT Bombay</td>\n",
              "      <td>Computer Engineering</td>\n",
              "      <td>38</td>\n",
              "      <td>OBC</td>\n",
              "    </tr>\n",
              "    <tr>\n",
              "      <th>22</th>\n",
              "      <td>IIT Delhi</td>\n",
              "      <td>Electrical Engineering</td>\n",
              "      <td>39</td>\n",
              "      <td>ST</td>\n",
              "    </tr>\n",
              "    <tr>\n",
              "      <th>23</th>\n",
              "      <td>IIT Madras</td>\n",
              "      <td>Computer Engineering</td>\n",
              "      <td>48</td>\n",
              "      <td>SC</td>\n",
              "    </tr>\n",
              "    <tr>\n",
              "      <th>24</th>\n",
              "      <td>IIT Bombay</td>\n",
              "      <td>Mechanical Engineering</td>\n",
              "      <td>52</td>\n",
              "      <td>ST</td>\n",
              "    </tr>\n",
              "    <tr>\n",
              "      <th>25</th>\n",
              "      <td>IIT Delhi</td>\n",
              "      <td>Civil Engineering</td>\n",
              "      <td>57</td>\n",
              "      <td>ST</td>\n",
              "    </tr>\n",
              "    <tr>\n",
              "      <th>26</th>\n",
              "      <td>IIT Bombay</td>\n",
              "      <td>Computer Engineering</td>\n",
              "      <td>59</td>\n",
              "      <td>GENERAL</td>\n",
              "    </tr>\n",
              "    <tr>\n",
              "      <th>27</th>\n",
              "      <td>IIT Delhi</td>\n",
              "      <td>Mechanical Engineering</td>\n",
              "      <td>63</td>\n",
              "      <td>ST</td>\n",
              "    </tr>\n",
              "    <tr>\n",
              "      <th>28</th>\n",
              "      <td>IIT Bombay</td>\n",
              "      <td>Electrical Engineering</td>\n",
              "      <td>64</td>\n",
              "      <td>SC</td>\n",
              "    </tr>\n",
              "    <tr>\n",
              "      <th>29</th>\n",
              "      <td>IIT Delhi</td>\n",
              "      <td>Computer Engineering</td>\n",
              "      <td>69</td>\n",
              "      <td>OBC</td>\n",
              "    </tr>\n",
              "  </tbody>\n",
              "</table>\n",
              "</div>"
            ],
            "text/plain": [
              "   INSTITUTE_NAME              DEPARTMENT  RANK_PREDICTOR CATEGORY\n",
              "20      IIT Delhi    Computer Engineering              36       SC\n",
              "21     IIT Bombay    Computer Engineering              38      OBC\n",
              "22      IIT Delhi  Electrical Engineering              39       ST\n",
              "23     IIT Madras    Computer Engineering              48       SC\n",
              "24     IIT Bombay  Mechanical Engineering              52       ST\n",
              "25      IIT Delhi       Civil Engineering              57       ST\n",
              "26     IIT Bombay    Computer Engineering              59  GENERAL\n",
              "27      IIT Delhi  Mechanical Engineering              63       ST\n",
              "28     IIT Bombay  Electrical Engineering              64       SC\n",
              "29      IIT Delhi    Computer Engineering              69      OBC"
            ]
          },
          "metadata": {
            "tags": []
          },
          "execution_count": 130
        }
      ]
    },
    {
      "cell_type": "code",
      "metadata": {
        "id": "qtR_xkeMr8EB",
        "colab_type": "code",
        "colab": {}
      },
      "source": [
        "fin.to_csv('Close.csv' , index = False)"
      ],
      "execution_count": 0,
      "outputs": []
    },
    {
      "cell_type": "markdown",
      "metadata": {
        "id": "GPDavWtF0niF",
        "colab_type": "text"
      },
      "source": [
        "\n",
        "\n",
        "---\n",
        "\n",
        "\n",
        "\n",
        "---\n",
        "\n",
        "\n",
        "#FINALLY WE ARE HERE .........🎉\n",
        "#Perform Last Activity \n",
        "# Search the college & Branch based on Rank & Category"
      ]
    },
    {
      "cell_type": "code",
      "metadata": {
        "id": "kYUB8pSvzlCY",
        "colab_type": "code",
        "colab": {
          "base_uri": "https://localhost:8080/",
          "height": 34
        },
        "outputId": "72a5a815-bdb3-46a6-de67-e6823720aab0"
      },
      "source": [
        "rank = int(input(\"Enter the closing rank : \"))"
      ],
      "execution_count": 150,
      "outputs": [
        {
          "output_type": "stream",
          "text": [
            "Enter the closing rank : 0\n"
          ],
          "name": "stdout"
        }
      ]
    },
    {
      "cell_type": "code",
      "metadata": {
        "id": "UwoTvaSOzmUG",
        "colab_type": "code",
        "colab": {
          "base_uri": "https://localhost:8080/",
          "height": 34
        },
        "outputId": "4b9081df-7891-46ba-dbcd-62627aafbe78"
      },
      "source": [
        "cat = input(\"Enter the Category : \")"
      ],
      "execution_count": 145,
      "outputs": [
        {
          "output_type": "stream",
          "text": [
            "Enter the Category : ST\n"
          ],
          "name": "stdout"
        }
      ]
    },
    {
      "cell_type": "code",
      "metadata": {
        "id": "8QLgFFh6wnky",
        "colab_type": "code",
        "colab": {
          "base_uri": "https://localhost:8080/",
          "height": 548
        },
        "outputId": "79b45bf5-0fc7-4ca3-9856-ae47ec2eb214"
      },
      "source": [
        "print('NUmber of  the college with Departments based on rank : ' , end=' ')\n",
        "print(fin[(fin['RANK_PREDICTOR']==rank) & (fin['CATEGORY']==cat)].shape[0])\n",
        "\n",
        "print('Display all of  the college with Departments based on rank : ' , end=' ')\n",
        "DEP = fin[(fin['RANK_PREDICTOR']==rank) & (fin['CATEGORY']==cat)].iloc[: , :2]\n",
        "DEP "
      ],
      "execution_count": 149,
      "outputs": [
        {
          "output_type": "stream",
          "text": [
            "NUmber of  the college with Departments based on rank :  15\n",
            "Display all of  the college with Departments based on rank :  "
          ],
          "name": "stdout"
        },
        {
          "output_type": "execute_result",
          "data": {
            "text/html": [
              "<div>\n",
              "<style scoped>\n",
              "    .dataframe tbody tr th:only-of-type {\n",
              "        vertical-align: middle;\n",
              "    }\n",
              "\n",
              "    .dataframe tbody tr th {\n",
              "        vertical-align: top;\n",
              "    }\n",
              "\n",
              "    .dataframe thead th {\n",
              "        text-align: right;\n",
              "    }\n",
              "</style>\n",
              "<table border=\"1\" class=\"dataframe\">\n",
              "  <thead>\n",
              "    <tr style=\"text-align: right;\">\n",
              "      <th></th>\n",
              "      <th>INSTITUTE_NAME</th>\n",
              "      <th>DEPARTMENT</th>\n",
              "    </tr>\n",
              "  </thead>\n",
              "  <tbody>\n",
              "    <tr>\n",
              "      <th>0</th>\n",
              "      <td>ISM Dhanbad</td>\n",
              "      <td>Applied Geophysics</td>\n",
              "    </tr>\n",
              "    <tr>\n",
              "      <th>1</th>\n",
              "      <td>IIT Roorkee</td>\n",
              "      <td>Geophysical Technology</td>\n",
              "    </tr>\n",
              "    <tr>\n",
              "      <th>2</th>\n",
              "      <td>IIT Roorkee</td>\n",
              "      <td>Architecture</td>\n",
              "    </tr>\n",
              "    <tr>\n",
              "      <th>3</th>\n",
              "      <td>IIT Roorkee</td>\n",
              "      <td>Pulp &amp; Paper Engineering</td>\n",
              "    </tr>\n",
              "    <tr>\n",
              "      <th>4</th>\n",
              "      <td>IIT Madras</td>\n",
              "      <td>Naval Architecture &amp; Ocean Engineering</td>\n",
              "    </tr>\n",
              "    <tr>\n",
              "      <th>5</th>\n",
              "      <td>IIT Madras</td>\n",
              "      <td>Electrical Engineering *</td>\n",
              "    </tr>\n",
              "    <tr>\n",
              "      <th>6</th>\n",
              "      <td>IIT Madras</td>\n",
              "      <td>Civil Engineering *</td>\n",
              "    </tr>\n",
              "    <tr>\n",
              "      <th>7</th>\n",
              "      <td>IIT Kanpur</td>\n",
              "      <td>Chemistry</td>\n",
              "    </tr>\n",
              "    <tr>\n",
              "      <th>8</th>\n",
              "      <td>IIT (BHU) Varanasi</td>\n",
              "      <td>Industrial Chemistry</td>\n",
              "    </tr>\n",
              "    <tr>\n",
              "      <th>9</th>\n",
              "      <td>IIT (BHU) Varanasi</td>\n",
              "      <td>Pharmaceutics</td>\n",
              "    </tr>\n",
              "    <tr>\n",
              "      <th>10</th>\n",
              "      <td>IIT Kharagpur</td>\n",
              "      <td>Exploration Geophysics</td>\n",
              "    </tr>\n",
              "    <tr>\n",
              "      <th>11</th>\n",
              "      <td>IIT Kharagpur</td>\n",
              "      <td>Economics</td>\n",
              "    </tr>\n",
              "    <tr>\n",
              "      <th>12</th>\n",
              "      <td>IIT Kharagpur</td>\n",
              "      <td>Applied Geology</td>\n",
              "    </tr>\n",
              "    <tr>\n",
              "      <th>13</th>\n",
              "      <td>ISM Dhanbad</td>\n",
              "      <td>Applied Geology</td>\n",
              "    </tr>\n",
              "    <tr>\n",
              "      <th>14</th>\n",
              "      <td>ISM Dhanbad</td>\n",
              "      <td>Mathematics &amp; Computing</td>\n",
              "    </tr>\n",
              "  </tbody>\n",
              "</table>\n",
              "</div>"
            ],
            "text/plain": [
              "        INSTITUTE_NAME                              DEPARTMENT\n",
              "0          ISM Dhanbad                      Applied Geophysics\n",
              "1          IIT Roorkee                  Geophysical Technology\n",
              "2          IIT Roorkee                            Architecture\n",
              "3          IIT Roorkee                Pulp & Paper Engineering\n",
              "4           IIT Madras  Naval Architecture & Ocean Engineering\n",
              "5           IIT Madras                Electrical Engineering *\n",
              "6           IIT Madras                     Civil Engineering *\n",
              "7           IIT Kanpur                               Chemistry\n",
              "8   IIT (BHU) Varanasi                    Industrial Chemistry\n",
              "9   IIT (BHU) Varanasi                           Pharmaceutics\n",
              "10       IIT Kharagpur                  Exploration Geophysics\n",
              "11       IIT Kharagpur                               Economics\n",
              "12       IIT Kharagpur                         Applied Geology\n",
              "13         ISM Dhanbad                         Applied Geology\n",
              "14         ISM Dhanbad                 Mathematics & Computing"
            ]
          },
          "metadata": {
            "tags": []
          },
          "execution_count": 149
        }
      ]
    },
    {
      "cell_type": "markdown",
      "metadata": {
        "id": "mJLPl9Ja4I64",
        "colab_type": "text"
      },
      "source": [
        "#EXAMPLE -1: Department Wise"
      ]
    },
    {
      "cell_type": "code",
      "metadata": {
        "id": "NViUZavhwnfT",
        "colab_type": "code",
        "colab": {
          "base_uri": "https://localhost:8080/",
          "height": 34
        },
        "outputId": "37c4226a-0d16-4b0d-a866-0de703fa4715"
      },
      "source": [
        "order = input(\"Enter the order : \")"
      ],
      "execution_count": 148,
      "outputs": [
        {
          "output_type": "stream",
          "text": [
            "Enter the order : DEPARTMENT\n"
          ],
          "name": "stdout"
        }
      ]
    },
    {
      "cell_type": "code",
      "metadata": {
        "id": "H48Zdg2dwnaP",
        "colab_type": "code",
        "colab": {
          "base_uri": "https://localhost:8080/",
          "height": 500
        },
        "outputId": "9119bf0d-c1e5-4a92-b97f-bb8953669ab6"
      },
      "source": [
        "output = DEP.groupby(order).sum()\n",
        "output.reset_index(inplace =True)\n",
        "print(output.shape)\n",
        "output"
      ],
      "execution_count": 160,
      "outputs": [
        {
          "output_type": "stream",
          "text": [
            "(14, 2)\n"
          ],
          "name": "stdout"
        },
        {
          "output_type": "execute_result",
          "data": {
            "text/html": [
              "<div>\n",
              "<style scoped>\n",
              "    .dataframe tbody tr th:only-of-type {\n",
              "        vertical-align: middle;\n",
              "    }\n",
              "\n",
              "    .dataframe tbody tr th {\n",
              "        vertical-align: top;\n",
              "    }\n",
              "\n",
              "    .dataframe thead th {\n",
              "        text-align: right;\n",
              "    }\n",
              "</style>\n",
              "<table border=\"1\" class=\"dataframe\">\n",
              "  <thead>\n",
              "    <tr style=\"text-align: right;\">\n",
              "      <th></th>\n",
              "      <th>DEPARTMENT</th>\n",
              "      <th>INSTITUTE_NAME</th>\n",
              "    </tr>\n",
              "  </thead>\n",
              "  <tbody>\n",
              "    <tr>\n",
              "      <th>0</th>\n",
              "      <td>Applied Geology</td>\n",
              "      <td>IIT KharagpurISM Dhanbad</td>\n",
              "    </tr>\n",
              "    <tr>\n",
              "      <th>1</th>\n",
              "      <td>Applied Geophysics</td>\n",
              "      <td>ISM Dhanbad</td>\n",
              "    </tr>\n",
              "    <tr>\n",
              "      <th>2</th>\n",
              "      <td>Architecture</td>\n",
              "      <td>IIT Roorkee</td>\n",
              "    </tr>\n",
              "    <tr>\n",
              "      <th>3</th>\n",
              "      <td>Chemistry</td>\n",
              "      <td>IIT Kanpur</td>\n",
              "    </tr>\n",
              "    <tr>\n",
              "      <th>4</th>\n",
              "      <td>Civil Engineering *</td>\n",
              "      <td>IIT Madras</td>\n",
              "    </tr>\n",
              "    <tr>\n",
              "      <th>5</th>\n",
              "      <td>Economics</td>\n",
              "      <td>IIT Kharagpur</td>\n",
              "    </tr>\n",
              "    <tr>\n",
              "      <th>6</th>\n",
              "      <td>Electrical Engineering *</td>\n",
              "      <td>IIT Madras</td>\n",
              "    </tr>\n",
              "    <tr>\n",
              "      <th>7</th>\n",
              "      <td>Exploration Geophysics</td>\n",
              "      <td>IIT Kharagpur</td>\n",
              "    </tr>\n",
              "    <tr>\n",
              "      <th>8</th>\n",
              "      <td>Geophysical Technology</td>\n",
              "      <td>IIT Roorkee</td>\n",
              "    </tr>\n",
              "    <tr>\n",
              "      <th>9</th>\n",
              "      <td>Industrial Chemistry</td>\n",
              "      <td>IIT (BHU) Varanasi</td>\n",
              "    </tr>\n",
              "    <tr>\n",
              "      <th>10</th>\n",
              "      <td>Mathematics &amp; Computing</td>\n",
              "      <td>ISM Dhanbad</td>\n",
              "    </tr>\n",
              "    <tr>\n",
              "      <th>11</th>\n",
              "      <td>Naval Architecture &amp; Ocean Engineering</td>\n",
              "      <td>IIT Madras</td>\n",
              "    </tr>\n",
              "    <tr>\n",
              "      <th>12</th>\n",
              "      <td>Pharmaceutics</td>\n",
              "      <td>IIT (BHU) Varanasi</td>\n",
              "    </tr>\n",
              "    <tr>\n",
              "      <th>13</th>\n",
              "      <td>Pulp &amp; Paper Engineering</td>\n",
              "      <td>IIT Roorkee</td>\n",
              "    </tr>\n",
              "  </tbody>\n",
              "</table>\n",
              "</div>"
            ],
            "text/plain": [
              "                                DEPARTMENT            INSTITUTE_NAME\n",
              "0                          Applied Geology  IIT KharagpurISM Dhanbad\n",
              "1                       Applied Geophysics               ISM Dhanbad\n",
              "2                             Architecture               IIT Roorkee\n",
              "3                                Chemistry                IIT Kanpur\n",
              "4                      Civil Engineering *                IIT Madras\n",
              "5                                Economics             IIT Kharagpur\n",
              "6                 Electrical Engineering *                IIT Madras\n",
              "7                   Exploration Geophysics             IIT Kharagpur\n",
              "8                   Geophysical Technology               IIT Roorkee\n",
              "9                     Industrial Chemistry        IIT (BHU) Varanasi\n",
              "10                 Mathematics & Computing               ISM Dhanbad\n",
              "11  Naval Architecture & Ocean Engineering                IIT Madras\n",
              "12                           Pharmaceutics        IIT (BHU) Varanasi\n",
              "13                Pulp & Paper Engineering               IIT Roorkee"
            ]
          },
          "metadata": {
            "tags": []
          },
          "execution_count": 160
        }
      ]
    },
    {
      "cell_type": "markdown",
      "metadata": {
        "id": "u7FP82o54O_C",
        "colab_type": "text"
      },
      "source": [
        "# EXAMPLE : 2- Institute Wise "
      ]
    },
    {
      "cell_type": "code",
      "metadata": {
        "id": "ebaXT-O24WWm",
        "colab_type": "code",
        "colab": {
          "base_uri": "https://localhost:8080/",
          "height": 34
        },
        "outputId": "47c22240-fd26-4f83-ae00-9f7163400c04"
      },
      "source": [
        "order = input(\"Enter the order : \")"
      ],
      "execution_count": 161,
      "outputs": [
        {
          "output_type": "stream",
          "text": [
            "Enter the order : INSTITUTE_NAME\n"
          ],
          "name": "stdout"
        }
      ]
    },
    {
      "cell_type": "code",
      "metadata": {
        "id": "YAa52Iah4WS0",
        "colab_type": "code",
        "colab": {
          "base_uri": "https://localhost:8080/",
          "height": 252
        },
        "outputId": "edd7f3a8-c738-42fa-e4ba-9bb41520c72b"
      },
      "source": [
        "output = DEP.groupby(order).sum()\n",
        "output.reset_index(inplace =True)\n",
        "print(output.shape)\n",
        "output"
      ],
      "execution_count": 162,
      "outputs": [
        {
          "output_type": "stream",
          "text": [
            "(6, 2)\n"
          ],
          "name": "stdout"
        },
        {
          "output_type": "execute_result",
          "data": {
            "text/html": [
              "<div>\n",
              "<style scoped>\n",
              "    .dataframe tbody tr th:only-of-type {\n",
              "        vertical-align: middle;\n",
              "    }\n",
              "\n",
              "    .dataframe tbody tr th {\n",
              "        vertical-align: top;\n",
              "    }\n",
              "\n",
              "    .dataframe thead th {\n",
              "        text-align: right;\n",
              "    }\n",
              "</style>\n",
              "<table border=\"1\" class=\"dataframe\">\n",
              "  <thead>\n",
              "    <tr style=\"text-align: right;\">\n",
              "      <th></th>\n",
              "      <th>INSTITUTE_NAME</th>\n",
              "      <th>DEPARTMENT</th>\n",
              "    </tr>\n",
              "  </thead>\n",
              "  <tbody>\n",
              "    <tr>\n",
              "      <th>0</th>\n",
              "      <td>IIT (BHU) Varanasi</td>\n",
              "      <td>Industrial ChemistryPharmaceutics</td>\n",
              "    </tr>\n",
              "    <tr>\n",
              "      <th>1</th>\n",
              "      <td>IIT Kanpur</td>\n",
              "      <td>Chemistry</td>\n",
              "    </tr>\n",
              "    <tr>\n",
              "      <th>2</th>\n",
              "      <td>IIT Kharagpur</td>\n",
              "      <td>Exploration GeophysicsEconomicsApplied Geology</td>\n",
              "    </tr>\n",
              "    <tr>\n",
              "      <th>3</th>\n",
              "      <td>IIT Madras</td>\n",
              "      <td>Naval Architecture &amp; Ocean EngineeringElectric...</td>\n",
              "    </tr>\n",
              "    <tr>\n",
              "      <th>4</th>\n",
              "      <td>IIT Roorkee</td>\n",
              "      <td>Geophysical TechnologyArchitecturePulp &amp; Paper...</td>\n",
              "    </tr>\n",
              "    <tr>\n",
              "      <th>5</th>\n",
              "      <td>ISM Dhanbad</td>\n",
              "      <td>Applied GeophysicsApplied GeologyMathematics &amp;...</td>\n",
              "    </tr>\n",
              "  </tbody>\n",
              "</table>\n",
              "</div>"
            ],
            "text/plain": [
              "       INSTITUTE_NAME                                         DEPARTMENT\n",
              "0  IIT (BHU) Varanasi                  Industrial ChemistryPharmaceutics\n",
              "1          IIT Kanpur                                          Chemistry\n",
              "2       IIT Kharagpur     Exploration GeophysicsEconomicsApplied Geology\n",
              "3          IIT Madras  Naval Architecture & Ocean EngineeringElectric...\n",
              "4         IIT Roorkee  Geophysical TechnologyArchitecturePulp & Paper...\n",
              "5         ISM Dhanbad  Applied GeophysicsApplied GeologyMathematics &..."
            ]
          },
          "metadata": {
            "tags": []
          },
          "execution_count": 162
        }
      ]
    },
    {
      "cell_type": "markdown",
      "metadata": {
        "id": "0kB2aUpgwWCA",
        "colab_type": "text"
      },
      "source": [
        "\n",
        "END \n",
        "---\n",
        "\n",
        "---\n",
        "\n",
        "\n",
        "\n",
        "---\n",
        "\n",
        "\n",
        "\n",
        "---\n",
        "\n",
        "\n",
        "\n",
        "\n",
        "\n",
        "---\n",
        "\n",
        "\n",
        "\n",
        "---\n",
        "\n",
        "\n",
        "\n",
        "---\n",
        "\n",
        "\n",
        "\n",
        "---\n",
        "\n"
      ]
    },
    {
      "cell_type": "code",
      "metadata": {
        "id": "x_gD7wh4r7-5",
        "colab_type": "code",
        "colab": {}
      },
      "source": [
        ""
      ],
      "execution_count": 0,
      "outputs": []
    },
    {
      "cell_type": "code",
      "metadata": {
        "id": "KEjRy77Er77V",
        "colab_type": "code",
        "colab": {}
      },
      "source": [
        ""
      ],
      "execution_count": 0,
      "outputs": []
    },
    {
      "cell_type": "code",
      "metadata": {
        "id": "j0lWXwiar72m",
        "colab_type": "code",
        "colab": {}
      },
      "source": [
        ""
      ],
      "execution_count": 0,
      "outputs": []
    },
    {
      "cell_type": "code",
      "metadata": {
        "id": "Tmu53K-Qr7x_",
        "colab_type": "code",
        "colab": {}
      },
      "source": [
        ""
      ],
      "execution_count": 0,
      "outputs": []
    },
    {
      "cell_type": "code",
      "metadata": {
        "id": "zCpbq7nTv0Dt",
        "colab_type": "code",
        "colab": {}
      },
      "source": [
        ""
      ],
      "execution_count": 0,
      "outputs": []
    },
    {
      "cell_type": "code",
      "metadata": {
        "id": "qRZox5cOvz_3",
        "colab_type": "code",
        "colab": {}
      },
      "source": [
        ""
      ],
      "execution_count": 0,
      "outputs": []
    },
    {
      "cell_type": "code",
      "metadata": {
        "id": "8k59ZD2Cvz7g",
        "colab_type": "code",
        "colab": {}
      },
      "source": [
        ""
      ],
      "execution_count": 0,
      "outputs": []
    },
    {
      "cell_type": "code",
      "metadata": {
        "id": "-DDkv2qEvz3r",
        "colab_type": "code",
        "colab": {}
      },
      "source": [
        ""
      ],
      "execution_count": 0,
      "outputs": []
    },
    {
      "cell_type": "code",
      "metadata": {
        "id": "gHkqDc8Ivzxo",
        "colab_type": "code",
        "colab": {}
      },
      "source": [
        ""
      ],
      "execution_count": 0,
      "outputs": []
    },
    {
      "cell_type": "code",
      "metadata": {
        "id": "hRA9AralvzpH",
        "colab_type": "code",
        "colab": {}
      },
      "source": [
        ""
      ],
      "execution_count": 0,
      "outputs": []
    },
    {
      "cell_type": "markdown",
      "metadata": {
        "id": "jYJrgYnoec4h",
        "colab_type": "text"
      },
      "source": [
        "#other/Rough task"
      ]
    },
    {
      "cell_type": "code",
      "metadata": {
        "id": "STN9wLiT2ist",
        "colab_type": "code",
        "colab": {
          "base_uri": "https://localhost:8080/",
          "height": 34
        },
        "outputId": "cba942d4-9d2d-4ef2-d285-72e04f421388"
      },
      "source": [
        "first = [1,2,3]\n",
        "second = [4,5,6]\n",
        "[x + y for x, y in zip(first, second)]"
      ],
      "execution_count": 30,
      "outputs": [
        {
          "output_type": "execute_result",
          "data": {
            "text/plain": [
              "[5, 7, 9]"
            ]
          },
          "metadata": {
            "tags": []
          },
          "execution_count": 30
        }
      ]
    },
    {
      "cell_type": "code",
      "metadata": {
        "id": "pEIkjac2ev46",
        "colab_type": "code",
        "colab": {
          "base_uri": "https://localhost:8080/",
          "height": 68
        },
        "outputId": "c1e47ff7-745a-4509-f9f4-6432b401f3fd"
      },
      "source": [
        "lists_of_lists = [[1, 2, 3], [4, 5, 6]]\n",
        "print(*lists_of_lists)\n",
        "print(zip(*lists_of_lists))\n",
        "[sum(x) for x in zip(*lists_of_lists)]"
      ],
      "execution_count": 32,
      "outputs": [
        {
          "output_type": "stream",
          "text": [
            "[1, 2, 3] [4, 5, 6]\n",
            "<zip object at 0x7f1598ad4248>\n"
          ],
          "name": "stdout"
        },
        {
          "output_type": "execute_result",
          "data": {
            "text/plain": [
              "[5, 7, 9]"
            ]
          },
          "metadata": {
            "tags": []
          },
          "execution_count": 32
        }
      ]
    },
    {
      "cell_type": "code",
      "metadata": {
        "id": "rv3EcqxMewBr",
        "colab_type": "code",
        "colab": {
          "base_uri": "https://localhost:8080/",
          "height": 34
        },
        "outputId": "4a88f0fc-e93a-4406-ee82-21c4cc7a8f4d"
      },
      "source": [
        "first = ['1','2','3']\n",
        "second = ['a','b','c']\n",
        "[x + y for x, y in zip(first, second)]"
      ],
      "execution_count": 33,
      "outputs": [
        {
          "output_type": "execute_result",
          "data": {
            "text/plain": [
              "['1a', '2b', '3c']"
            ]
          },
          "metadata": {
            "tags": []
          },
          "execution_count": 33
        }
      ]
    },
    {
      "cell_type": "code",
      "metadata": {
        "id": "3yq-NQgYev1c",
        "colab_type": "code",
        "colab": {}
      },
      "source": [
        ""
      ],
      "execution_count": 0,
      "outputs": []
    },
    {
      "cell_type": "code",
      "metadata": {
        "id": "1-xLwtiqevyd",
        "colab_type": "code",
        "colab": {}
      },
      "source": [
        ""
      ],
      "execution_count": 0,
      "outputs": []
    }
  ]
}